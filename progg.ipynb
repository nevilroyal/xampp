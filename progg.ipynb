{
 "cells": [
  {
   "cell_type": "code",
   "execution_count": 1,
   "id": "9f736fe8-6fbf-4e00-ae24-4a862c2d8fa6",
   "metadata": {},
   "outputs": [],
   "source": [
    "import pandas as pd\n",
    "\n"
   ]
  },
  {
   "cell_type": "markdown",
   "id": "e1b9aa1d-3e57-41e8-a0c3-012ad65e66ef",
   "metadata": {},
   "source": [
    "1"
   ]
  },
  {
   "cell_type": "code",
   "execution_count": 11,
   "id": "724d1275-7220-49ef-a523-5ffe2d66a15b",
   "metadata": {},
   "outputs": [],
   "source": [
    "data=pd.read_csv('E:/DataSets/input.csv')"
   ]
  },
  {
   "cell_type": "code",
   "execution_count": 13,
   "id": "e2e3661b-d6fe-49b6-852a-d12efd9bb422",
   "metadata": {},
   "outputs": [
    {
     "data": {
      "text/html": [
       "<div>\n",
       "<style scoped>\n",
       "    .dataframe tbody tr th:only-of-type {\n",
       "        vertical-align: middle;\n",
       "    }\n",
       "\n",
       "    .dataframe tbody tr th {\n",
       "        vertical-align: top;\n",
       "    }\n",
       "\n",
       "    .dataframe thead th {\n",
       "        text-align: right;\n",
       "    }\n",
       "</style>\n",
       "<table border=\"1\" class=\"dataframe\">\n",
       "  <thead>\n",
       "    <tr style=\"text-align: right;\">\n",
       "      <th></th>\n",
       "      <th>id</th>\n",
       "      <th>name</th>\n",
       "      <th>salary</th>\n",
       "      <th>start_date</th>\n",
       "      <th>dept</th>\n",
       "    </tr>\n",
       "  </thead>\n",
       "  <tbody>\n",
       "    <tr>\n",
       "      <th>0</th>\n",
       "      <td>1</td>\n",
       "      <td>Rick</td>\n",
       "      <td>623.30</td>\n",
       "      <td>1/1/2012</td>\n",
       "      <td>IT</td>\n",
       "    </tr>\n",
       "    <tr>\n",
       "      <th>1</th>\n",
       "      <td>2</td>\n",
       "      <td>Dan</td>\n",
       "      <td>515.20</td>\n",
       "      <td>9/23/2013</td>\n",
       "      <td>Operations</td>\n",
       "    </tr>\n",
       "    <tr>\n",
       "      <th>2</th>\n",
       "      <td>3</td>\n",
       "      <td>Tusar</td>\n",
       "      <td>611.00</td>\n",
       "      <td>11/15/2014</td>\n",
       "      <td>IT</td>\n",
       "    </tr>\n",
       "    <tr>\n",
       "      <th>3</th>\n",
       "      <td>4</td>\n",
       "      <td>Ryan</td>\n",
       "      <td>729.00</td>\n",
       "      <td>5/11/2014</td>\n",
       "      <td>HR</td>\n",
       "    </tr>\n",
       "    <tr>\n",
       "      <th>4</th>\n",
       "      <td>5</td>\n",
       "      <td>Gary</td>\n",
       "      <td>843.25</td>\n",
       "      <td>3/27/2015</td>\n",
       "      <td>Finance</td>\n",
       "    </tr>\n",
       "  </tbody>\n",
       "</table>\n",
       "</div>"
      ],
      "text/plain": [
       "   id   name  salary  start_date        dept\n",
       "0   1   Rick  623.30    1/1/2012          IT\n",
       "1   2    Dan  515.20   9/23/2013  Operations\n",
       "2   3  Tusar  611.00  11/15/2014          IT\n",
       "3   4   Ryan  729.00   5/11/2014          HR\n",
       "4   5   Gary  843.25   3/27/2015     Finance"
      ]
     },
     "execution_count": 13,
     "metadata": {},
     "output_type": "execute_result"
    }
   ],
   "source": [
    "data.head()"
   ]
  },
  {
   "cell_type": "code",
   "execution_count": 15,
   "id": "60928969-a963-4351-aecc-20c64bbd1251",
   "metadata": {},
   "outputs": [
    {
     "data": {
      "text/html": [
       "<div>\n",
       "<style scoped>\n",
       "    .dataframe tbody tr th:only-of-type {\n",
       "        vertical-align: middle;\n",
       "    }\n",
       "\n",
       "    .dataframe tbody tr th {\n",
       "        vertical-align: top;\n",
       "    }\n",
       "\n",
       "    .dataframe thead th {\n",
       "        text-align: right;\n",
       "    }\n",
       "</style>\n",
       "<table border=\"1\" class=\"dataframe\">\n",
       "  <thead>\n",
       "    <tr style=\"text-align: right;\">\n",
       "      <th></th>\n",
       "      <th>id</th>\n",
       "      <th>name</th>\n",
       "      <th>salary</th>\n",
       "      <th>start_date</th>\n",
       "      <th>dept</th>\n",
       "    </tr>\n",
       "  </thead>\n",
       "  <tbody>\n",
       "    <tr>\n",
       "      <th>0</th>\n",
       "      <td>1</td>\n",
       "      <td>Rick</td>\n",
       "      <td>623.30</td>\n",
       "      <td>1/1/2012</td>\n",
       "      <td>IT</td>\n",
       "    </tr>\n",
       "    <tr>\n",
       "      <th>1</th>\n",
       "      <td>2</td>\n",
       "      <td>Dan</td>\n",
       "      <td>515.20</td>\n",
       "      <td>9/23/2013</td>\n",
       "      <td>Operations</td>\n",
       "    </tr>\n",
       "    <tr>\n",
       "      <th>2</th>\n",
       "      <td>3</td>\n",
       "      <td>Tusar</td>\n",
       "      <td>611.00</td>\n",
       "      <td>11/15/2014</td>\n",
       "      <td>IT</td>\n",
       "    </tr>\n",
       "    <tr>\n",
       "      <th>3</th>\n",
       "      <td>4</td>\n",
       "      <td>Ryan</td>\n",
       "      <td>729.00</td>\n",
       "      <td>5/11/2014</td>\n",
       "      <td>HR</td>\n",
       "    </tr>\n",
       "    <tr>\n",
       "      <th>4</th>\n",
       "      <td>5</td>\n",
       "      <td>Gary</td>\n",
       "      <td>843.25</td>\n",
       "      <td>3/27/2015</td>\n",
       "      <td>Finance</td>\n",
       "    </tr>\n",
       "    <tr>\n",
       "      <th>5</th>\n",
       "      <td>6</td>\n",
       "      <td>Rasmi</td>\n",
       "      <td>578.00</td>\n",
       "      <td>5/21/2013</td>\n",
       "      <td>IT</td>\n",
       "    </tr>\n",
       "    <tr>\n",
       "      <th>6</th>\n",
       "      <td>7</td>\n",
       "      <td>Pranab</td>\n",
       "      <td>632.80</td>\n",
       "      <td>7/30/2013</td>\n",
       "      <td>Operations</td>\n",
       "    </tr>\n",
       "  </tbody>\n",
       "</table>\n",
       "</div>"
      ],
      "text/plain": [
       "   id    name  salary  start_date        dept\n",
       "0   1    Rick  623.30    1/1/2012          IT\n",
       "1   2     Dan  515.20   9/23/2013  Operations\n",
       "2   3   Tusar  611.00  11/15/2014          IT\n",
       "3   4    Ryan  729.00   5/11/2014          HR\n",
       "4   5    Gary  843.25   3/27/2015     Finance\n",
       "5   6   Rasmi  578.00   5/21/2013          IT\n",
       "6   7  Pranab  632.80   7/30/2013  Operations"
      ]
     },
     "execution_count": 15,
     "metadata": {},
     "output_type": "execute_result"
    }
   ],
   "source": [
    "data.head(7)\n"
   ]
  },
  {
   "cell_type": "code",
   "execution_count": 17,
   "id": "4949456c-c16e-49dd-bbb3-61cb9579a23e",
   "metadata": {},
   "outputs": [
    {
     "name": "stdout",
     "output_type": "stream",
     "text": [
      "<class 'pandas.core.frame.DataFrame'>\n",
      "RangeIndex: 8 entries, 0 to 7\n",
      "Data columns (total 5 columns):\n",
      " #   Column      Non-Null Count  Dtype  \n",
      "---  ------      --------------  -----  \n",
      " 0   id          8 non-null      int64  \n",
      " 1   name        8 non-null      object \n",
      " 2   salary      8 non-null      float64\n",
      " 3   start_date  8 non-null      object \n",
      " 4   dept        8 non-null      object \n",
      "dtypes: float64(1), int64(1), object(3)\n",
      "memory usage: 452.0+ bytes\n"
     ]
    }
   ],
   "source": [
    "data.info()"
   ]
  },
  {
   "cell_type": "code",
   "execution_count": 19,
   "id": "713ffc2c-fa1b-4647-bd82-9c22756a04d2",
   "metadata": {},
   "outputs": [
    {
     "data": {
      "text/plain": [
       "name          8\n",
       "start_date    8\n",
       "dept          4\n",
       "dtype: int64"
      ]
     },
     "execution_count": 19,
     "metadata": {},
     "output_type": "execute_result"
    }
   ],
   "source": [
    "data.select_dtypes(include='object').nunique()"
   ]
  },
  {
   "cell_type": "code",
   "execution_count": 21,
   "id": "a7e6d594-1d00-422b-8676-3a1c1f0d2841",
   "metadata": {},
   "outputs": [
    {
     "data": {
      "text/plain": [
       "salary    8\n",
       "dtype: int64"
      ]
     },
     "execution_count": 21,
     "metadata": {},
     "output_type": "execute_result"
    }
   ],
   "source": [
    "data.select_dtypes(include='float64').nunique()"
   ]
  },
  {
   "cell_type": "code",
   "execution_count": 23,
   "id": "dbbb2611-24ad-43e0-9010-33acdf140a70",
   "metadata": {},
   "outputs": [
    {
     "data": {
      "text/plain": [
       "id    8\n",
       "dtype: int64"
      ]
     },
     "execution_count": 23,
     "metadata": {},
     "output_type": "execute_result"
    }
   ],
   "source": [
    "data.select_dtypes(include='int64').nunique()"
   ]
  },
  {
   "cell_type": "code",
   "execution_count": 25,
   "id": "a4e16b90-d72b-423e-941b-4ddae4a6da81",
   "metadata": {},
   "outputs": [
    {
     "data": {
      "text/plain": [
       "id            False\n",
       "name          False\n",
       "salary        False\n",
       "start_date    False\n",
       "dept          False\n",
       "dtype: bool"
      ]
     },
     "execution_count": 25,
     "metadata": {},
     "output_type": "execute_result"
    }
   ],
   "source": [
    "data.isna().any()"
   ]
  },
  {
   "cell_type": "code",
   "execution_count": 27,
   "id": "54231a46-6e29-4ff2-99f2-cb6771831ef5",
   "metadata": {},
   "outputs": [
    {
     "data": {
      "text/plain": [
       "id            0\n",
       "name          0\n",
       "salary        0\n",
       "start_date    0\n",
       "dept          0\n",
       "dtype: int64"
      ]
     },
     "execution_count": 27,
     "metadata": {},
     "output_type": "execute_result"
    }
   ],
   "source": [
    "data.isnull().sum()"
   ]
  },
  {
   "cell_type": "code",
   "execution_count": 29,
   "id": "8775e3d9-e0ef-4be0-ac5c-ef62055a2631",
   "metadata": {},
   "outputs": [
    {
     "data": {
      "text/plain": [
       "id            0\n",
       "name          0\n",
       "salary        0\n",
       "start_date    0\n",
       "dept          0\n",
       "dtype: int64"
      ]
     },
     "execution_count": 29,
     "metadata": {},
     "output_type": "execute_result"
    }
   ],
   "source": [
    "data.isna().sum()"
   ]
  },
  {
   "cell_type": "code",
   "execution_count": 31,
   "id": "bc8d331b-2317-471c-907f-e3ae350f4b16",
   "metadata": {},
   "outputs": [
    {
     "data": {
      "text/html": [
       "<div>\n",
       "<style scoped>\n",
       "    .dataframe tbody tr th:only-of-type {\n",
       "        vertical-align: middle;\n",
       "    }\n",
       "\n",
       "    .dataframe tbody tr th {\n",
       "        vertical-align: top;\n",
       "    }\n",
       "\n",
       "    .dataframe thead th {\n",
       "        text-align: right;\n",
       "    }\n",
       "</style>\n",
       "<table border=\"1\" class=\"dataframe\">\n",
       "  <thead>\n",
       "    <tr style=\"text-align: right;\">\n",
       "      <th></th>\n",
       "      <th>id</th>\n",
       "      <th>salary</th>\n",
       "    </tr>\n",
       "  </thead>\n",
       "  <tbody>\n",
       "    <tr>\n",
       "      <th>count</th>\n",
       "      <td>8.00000</td>\n",
       "      <td>8.000000</td>\n",
       "    </tr>\n",
       "    <tr>\n",
       "      <th>mean</th>\n",
       "      <td>4.50000</td>\n",
       "      <td>656.881250</td>\n",
       "    </tr>\n",
       "    <tr>\n",
       "      <th>std</th>\n",
       "      <td>2.44949</td>\n",
       "      <td>103.059463</td>\n",
       "    </tr>\n",
       "    <tr>\n",
       "      <th>min</th>\n",
       "      <td>1.00000</td>\n",
       "      <td>515.200000</td>\n",
       "    </tr>\n",
       "    <tr>\n",
       "      <th>25%</th>\n",
       "      <td>2.75000</td>\n",
       "      <td>602.750000</td>\n",
       "    </tr>\n",
       "    <tr>\n",
       "      <th>50%</th>\n",
       "      <td>4.50000</td>\n",
       "      <td>628.050000</td>\n",
       "    </tr>\n",
       "    <tr>\n",
       "      <th>75%</th>\n",
       "      <td>6.25000</td>\n",
       "      <td>724.125000</td>\n",
       "    </tr>\n",
       "    <tr>\n",
       "      <th>max</th>\n",
       "      <td>8.00000</td>\n",
       "      <td>843.250000</td>\n",
       "    </tr>\n",
       "  </tbody>\n",
       "</table>\n",
       "</div>"
      ],
      "text/plain": [
       "            id      salary\n",
       "count  8.00000    8.000000\n",
       "mean   4.50000  656.881250\n",
       "std    2.44949  103.059463\n",
       "min    1.00000  515.200000\n",
       "25%    2.75000  602.750000\n",
       "50%    4.50000  628.050000\n",
       "75%    6.25000  724.125000\n",
       "max    8.00000  843.250000"
      ]
     },
     "execution_count": 31,
     "metadata": {},
     "output_type": "execute_result"
    }
   ],
   "source": [
    "data.describe()"
   ]
  },
  {
   "cell_type": "code",
   "execution_count": 33,
   "id": "6497e736-28df-4054-b612-b9d7e04cc84b",
   "metadata": {},
   "outputs": [
    {
     "data": {
      "text/html": [
       "<div>\n",
       "<style scoped>\n",
       "    .dataframe tbody tr th:only-of-type {\n",
       "        vertical-align: middle;\n",
       "    }\n",
       "\n",
       "    .dataframe tbody tr th {\n",
       "        vertical-align: top;\n",
       "    }\n",
       "\n",
       "    .dataframe thead th {\n",
       "        text-align: right;\n",
       "    }\n",
       "</style>\n",
       "<table border=\"1\" class=\"dataframe\">\n",
       "  <thead>\n",
       "    <tr style=\"text-align: right;\">\n",
       "      <th></th>\n",
       "      <th>name</th>\n",
       "      <th>start_date</th>\n",
       "      <th>dept</th>\n",
       "    </tr>\n",
       "  </thead>\n",
       "  <tbody>\n",
       "    <tr>\n",
       "      <th>count</th>\n",
       "      <td>8</td>\n",
       "      <td>8</td>\n",
       "      <td>8</td>\n",
       "    </tr>\n",
       "    <tr>\n",
       "      <th>unique</th>\n",
       "      <td>8</td>\n",
       "      <td>8</td>\n",
       "      <td>4</td>\n",
       "    </tr>\n",
       "    <tr>\n",
       "      <th>top</th>\n",
       "      <td>Rick</td>\n",
       "      <td>1/1/2012</td>\n",
       "      <td>IT</td>\n",
       "    </tr>\n",
       "    <tr>\n",
       "      <th>freq</th>\n",
       "      <td>1</td>\n",
       "      <td>1</td>\n",
       "      <td>3</td>\n",
       "    </tr>\n",
       "  </tbody>\n",
       "</table>\n",
       "</div>"
      ],
      "text/plain": [
       "        name start_date dept\n",
       "count      8          8    8\n",
       "unique     8          8    4\n",
       "top     Rick   1/1/2012   IT\n",
       "freq       1          1    3"
      ]
     },
     "execution_count": 33,
     "metadata": {},
     "output_type": "execute_result"
    }
   ],
   "source": [
    "data.describe(include=['object'])"
   ]
  },
  {
   "cell_type": "code",
   "execution_count": 35,
   "id": "73809de1-af71-40a5-bba5-2b80fbabfd52",
   "metadata": {},
   "outputs": [
    {
     "data": {
      "text/html": [
       "<div>\n",
       "<style scoped>\n",
       "    .dataframe tbody tr th:only-of-type {\n",
       "        vertical-align: middle;\n",
       "    }\n",
       "\n",
       "    .dataframe tbody tr th {\n",
       "        vertical-align: top;\n",
       "    }\n",
       "\n",
       "    .dataframe thead th {\n",
       "        text-align: right;\n",
       "    }\n",
       "</style>\n",
       "<table border=\"1\" class=\"dataframe\">\n",
       "  <thead>\n",
       "    <tr style=\"text-align: right;\">\n",
       "      <th></th>\n",
       "      <th>id</th>\n",
       "      <th>name</th>\n",
       "      <th>salary</th>\n",
       "      <th>start_date</th>\n",
       "      <th>dept</th>\n",
       "    </tr>\n",
       "  </thead>\n",
       "  <tbody>\n",
       "    <tr>\n",
       "      <th>count</th>\n",
       "      <td>8.00000</td>\n",
       "      <td>8</td>\n",
       "      <td>8.000000</td>\n",
       "      <td>8</td>\n",
       "      <td>8</td>\n",
       "    </tr>\n",
       "    <tr>\n",
       "      <th>unique</th>\n",
       "      <td>NaN</td>\n",
       "      <td>8</td>\n",
       "      <td>NaN</td>\n",
       "      <td>8</td>\n",
       "      <td>4</td>\n",
       "    </tr>\n",
       "    <tr>\n",
       "      <th>top</th>\n",
       "      <td>NaN</td>\n",
       "      <td>Rick</td>\n",
       "      <td>NaN</td>\n",
       "      <td>1/1/2012</td>\n",
       "      <td>IT</td>\n",
       "    </tr>\n",
       "    <tr>\n",
       "      <th>freq</th>\n",
       "      <td>NaN</td>\n",
       "      <td>1</td>\n",
       "      <td>NaN</td>\n",
       "      <td>1</td>\n",
       "      <td>3</td>\n",
       "    </tr>\n",
       "    <tr>\n",
       "      <th>mean</th>\n",
       "      <td>4.50000</td>\n",
       "      <td>NaN</td>\n",
       "      <td>656.881250</td>\n",
       "      <td>NaN</td>\n",
       "      <td>NaN</td>\n",
       "    </tr>\n",
       "    <tr>\n",
       "      <th>std</th>\n",
       "      <td>2.44949</td>\n",
       "      <td>NaN</td>\n",
       "      <td>103.059463</td>\n",
       "      <td>NaN</td>\n",
       "      <td>NaN</td>\n",
       "    </tr>\n",
       "    <tr>\n",
       "      <th>min</th>\n",
       "      <td>1.00000</td>\n",
       "      <td>NaN</td>\n",
       "      <td>515.200000</td>\n",
       "      <td>NaN</td>\n",
       "      <td>NaN</td>\n",
       "    </tr>\n",
       "    <tr>\n",
       "      <th>25%</th>\n",
       "      <td>2.75000</td>\n",
       "      <td>NaN</td>\n",
       "      <td>602.750000</td>\n",
       "      <td>NaN</td>\n",
       "      <td>NaN</td>\n",
       "    </tr>\n",
       "    <tr>\n",
       "      <th>50%</th>\n",
       "      <td>4.50000</td>\n",
       "      <td>NaN</td>\n",
       "      <td>628.050000</td>\n",
       "      <td>NaN</td>\n",
       "      <td>NaN</td>\n",
       "    </tr>\n",
       "    <tr>\n",
       "      <th>75%</th>\n",
       "      <td>6.25000</td>\n",
       "      <td>NaN</td>\n",
       "      <td>724.125000</td>\n",
       "      <td>NaN</td>\n",
       "      <td>NaN</td>\n",
       "    </tr>\n",
       "    <tr>\n",
       "      <th>max</th>\n",
       "      <td>8.00000</td>\n",
       "      <td>NaN</td>\n",
       "      <td>843.250000</td>\n",
       "      <td>NaN</td>\n",
       "      <td>NaN</td>\n",
       "    </tr>\n",
       "  </tbody>\n",
       "</table>\n",
       "</div>"
      ],
      "text/plain": [
       "             id  name      salary start_date dept\n",
       "count   8.00000     8    8.000000          8    8\n",
       "unique      NaN     8         NaN          8    4\n",
       "top         NaN  Rick         NaN   1/1/2012   IT\n",
       "freq        NaN     1         NaN          1    3\n",
       "mean    4.50000   NaN  656.881250        NaN  NaN\n",
       "std     2.44949   NaN  103.059463        NaN  NaN\n",
       "min     1.00000   NaN  515.200000        NaN  NaN\n",
       "25%     2.75000   NaN  602.750000        NaN  NaN\n",
       "50%     4.50000   NaN  628.050000        NaN  NaN\n",
       "75%     6.25000   NaN  724.125000        NaN  NaN\n",
       "max     8.00000   NaN  843.250000        NaN  NaN"
      ]
     },
     "execution_count": 35,
     "metadata": {},
     "output_type": "execute_result"
    }
   ],
   "source": [
    "data.describe(include='all')"
   ]
  },
  {
   "cell_type": "code",
   "execution_count": 37,
   "id": "735bd9fa-b937-4a9c-9564-a722bc41ea2c",
   "metadata": {},
   "outputs": [
    {
     "data": {
      "text/html": [
       "<div>\n",
       "<style scoped>\n",
       "    .dataframe tbody tr th:only-of-type {\n",
       "        vertical-align: middle;\n",
       "    }\n",
       "\n",
       "    .dataframe tbody tr th {\n",
       "        vertical-align: top;\n",
       "    }\n",
       "\n",
       "    .dataframe thead th {\n",
       "        text-align: right;\n",
       "    }\n",
       "</style>\n",
       "<table border=\"1\" class=\"dataframe\">\n",
       "  <thead>\n",
       "    <tr style=\"text-align: right;\">\n",
       "      <th></th>\n",
       "      <th>id</th>\n",
       "      <th>name</th>\n",
       "      <th>salary</th>\n",
       "      <th>start_date</th>\n",
       "      <th>dept</th>\n",
       "    </tr>\n",
       "  </thead>\n",
       "  <tbody>\n",
       "    <tr>\n",
       "      <th>1</th>\n",
       "      <td>2</td>\n",
       "      <td>Dan</td>\n",
       "      <td>515.2</td>\n",
       "      <td>9/23/2013</td>\n",
       "      <td>Operations</td>\n",
       "    </tr>\n",
       "    <tr>\n",
       "      <th>3</th>\n",
       "      <td>4</td>\n",
       "      <td>Ryan</td>\n",
       "      <td>729.0</td>\n",
       "      <td>5/11/2014</td>\n",
       "      <td>HR</td>\n",
       "    </tr>\n",
       "    <tr>\n",
       "      <th>5</th>\n",
       "      <td>6</td>\n",
       "      <td>Rasmi</td>\n",
       "      <td>578.0</td>\n",
       "      <td>5/21/2013</td>\n",
       "      <td>IT</td>\n",
       "    </tr>\n",
       "  </tbody>\n",
       "</table>\n",
       "</div>"
      ],
      "text/plain": [
       "   id   name  salary start_date        dept\n",
       "1   2    Dan   515.2  9/23/2013  Operations\n",
       "3   4   Ryan   729.0  5/11/2014          HR\n",
       "5   6  Rasmi   578.0  5/21/2013          IT"
      ]
     },
     "execution_count": 37,
     "metadata": {},
     "output_type": "execute_result"
    }
   ],
   "source": [
    "data.loc[[1,3,5]]"
   ]
  },
  {
   "cell_type": "code",
   "execution_count": 39,
   "id": "bd85aa75-7eb8-4bab-9f12-b4b25618f128",
   "metadata": {},
   "outputs": [
    {
     "data": {
      "text/html": [
       "<div>\n",
       "<style scoped>\n",
       "    .dataframe tbody tr th:only-of-type {\n",
       "        vertical-align: middle;\n",
       "    }\n",
       "\n",
       "    .dataframe tbody tr th {\n",
       "        vertical-align: top;\n",
       "    }\n",
       "\n",
       "    .dataframe thead th {\n",
       "        text-align: right;\n",
       "    }\n",
       "</style>\n",
       "<table border=\"1\" class=\"dataframe\">\n",
       "  <thead>\n",
       "    <tr style=\"text-align: right;\">\n",
       "      <th></th>\n",
       "      <th>name</th>\n",
       "      <th>salary</th>\n",
       "    </tr>\n",
       "  </thead>\n",
       "  <tbody>\n",
       "    <tr>\n",
       "      <th>0</th>\n",
       "      <td>Rick</td>\n",
       "      <td>623.30</td>\n",
       "    </tr>\n",
       "    <tr>\n",
       "      <th>1</th>\n",
       "      <td>Dan</td>\n",
       "      <td>515.20</td>\n",
       "    </tr>\n",
       "    <tr>\n",
       "      <th>2</th>\n",
       "      <td>Tusar</td>\n",
       "      <td>611.00</td>\n",
       "    </tr>\n",
       "    <tr>\n",
       "      <th>3</th>\n",
       "      <td>Ryan</td>\n",
       "      <td>729.00</td>\n",
       "    </tr>\n",
       "    <tr>\n",
       "      <th>4</th>\n",
       "      <td>Gary</td>\n",
       "      <td>843.25</td>\n",
       "    </tr>\n",
       "    <tr>\n",
       "      <th>5</th>\n",
       "      <td>Rasmi</td>\n",
       "      <td>578.00</td>\n",
       "    </tr>\n",
       "    <tr>\n",
       "      <th>6</th>\n",
       "      <td>Pranab</td>\n",
       "      <td>632.80</td>\n",
       "    </tr>\n",
       "    <tr>\n",
       "      <th>7</th>\n",
       "      <td>Guru</td>\n",
       "      <td>722.50</td>\n",
       "    </tr>\n",
       "  </tbody>\n",
       "</table>\n",
       "</div>"
      ],
      "text/plain": [
       "     name  salary\n",
       "0    Rick  623.30\n",
       "1     Dan  515.20\n",
       "2   Tusar  611.00\n",
       "3    Ryan  729.00\n",
       "4    Gary  843.25\n",
       "5   Rasmi  578.00\n",
       "6  Pranab  632.80\n",
       "7    Guru  722.50"
      ]
     },
     "execution_count": 39,
     "metadata": {},
     "output_type": "execute_result"
    }
   ],
   "source": [
    "data[['name','salary']]"
   ]
  },
  {
   "cell_type": "code",
   "execution_count": 41,
   "id": "effd3450-ed51-4429-a0ab-f1561f1a4fda",
   "metadata": {},
   "outputs": [
    {
     "data": {
      "text/html": [
       "<div>\n",
       "<style scoped>\n",
       "    .dataframe tbody tr th:only-of-type {\n",
       "        vertical-align: middle;\n",
       "    }\n",
       "\n",
       "    .dataframe tbody tr th {\n",
       "        vertical-align: top;\n",
       "    }\n",
       "\n",
       "    .dataframe thead th {\n",
       "        text-align: right;\n",
       "    }\n",
       "</style>\n",
       "<table border=\"1\" class=\"dataframe\">\n",
       "  <thead>\n",
       "    <tr style=\"text-align: right;\">\n",
       "      <th></th>\n",
       "      <th>name</th>\n",
       "      <th>salary</th>\n",
       "    </tr>\n",
       "  </thead>\n",
       "  <tbody>\n",
       "    <tr>\n",
       "      <th>1</th>\n",
       "      <td>Dan</td>\n",
       "      <td>515.2</td>\n",
       "    </tr>\n",
       "    <tr>\n",
       "      <th>3</th>\n",
       "      <td>Ryan</td>\n",
       "      <td>729.0</td>\n",
       "    </tr>\n",
       "    <tr>\n",
       "      <th>5</th>\n",
       "      <td>Rasmi</td>\n",
       "      <td>578.0</td>\n",
       "    </tr>\n",
       "  </tbody>\n",
       "</table>\n",
       "</div>"
      ],
      "text/plain": [
       "    name  salary\n",
       "1    Dan   515.2\n",
       "3   Ryan   729.0\n",
       "5  Rasmi   578.0"
      ]
     },
     "execution_count": 41,
     "metadata": {},
     "output_type": "execute_result"
    }
   ],
   "source": [
    "data.loc[[1,3,5],['name','salary']]"
   ]
  },
  {
   "cell_type": "code",
   "execution_count": 43,
   "id": "b063cc11-d829-432b-a0f7-41c4af281b61",
   "metadata": {},
   "outputs": [
    {
     "name": "stdout",
     "output_type": "stream",
     "text": [
      "Preview the loaded data\n",
      "   id    name  salary  start_date        dept\n",
      "0   1    Rick  623.30    1/1/2012          IT\n",
      "1   2     Dan  515.20   9/23/2013  Operations\n",
      "2   3   Tusar  611.00  11/15/2014          IT\n",
      "3   4    Ryan  729.00   5/11/2014          HR\n",
      "4   5    Gary  843.25   3/27/2015     Finance\n",
      "5   6   Rasmi  578.00   5/21/2013          IT\n",
      "6   7  Pranab  632.80   7/30/2013  Operations\n",
      "7   8    Guru  722.50   6/17/2014     Finance\n",
      "Preview the loaded data\n",
      "   id    name  salary  start_date        dept\n",
      "0   1    Rick  623.30    1/1/2012          IT\n",
      "1   2     Dan  515.20   9/23/2013  Operations\n",
      "2   3   Tusar  611.00  11/15/2014          IT\n",
      "3   4    Ryan  729.00   5/11/2014          HR\n",
      "4   5    Gary  843.25   3/27/2015     Finance\n",
      "5   6   Rasmi  578.00   5/21/2013          IT\n",
      "6   7  Pranab  632.80   7/30/2013  Operations\n",
      "7   8    Guru  722.50   6/17/2014     Finance\n",
      "Filtering specific records and fields\n",
      "   salary   name\n",
      "1   515.2    Dan\n",
      "3   729.0   Ryan\n",
      "5   578.0  Rasmi\n"
     ]
    }
   ],
   "source": [
    "import pandas as pd\n",
    "data=pd.read_json('E:/DataSets/input.json')\n",
    "print(\"Preview the loaded data\")\n",
    "print(data)\n",
    "print(\"Preview the loaded data\")\n",
    "print(data)\n",
    "print(\"Filtering specific records and fields\")\n",
    "print (data.loc[[1,3,5],['salary','name']])"
   ]
  },
  {
   "cell_type": "code",
   "execution_count": 45,
   "id": "7b42063d-f272-4eb2-9ee4-9ed34ded0064",
   "metadata": {},
   "outputs": [
    {
     "name": "stdout",
     "output_type": "stream",
     "text": [
      "Preview the loaded data\n",
      "   id    name  salary  start_date        dept\n",
      "0   1    Rick  623.30    1/1/2012          IT\n",
      "1   2     Dan  515.20   9/23/2013  Operations\n",
      "2   3   Tusar  611.00  11/15/2014          IT\n",
      "3   4    Ryan  729.00   5/11/2014          HR\n",
      "4   5    Gary  843.25   3/27/2015     Finance\n",
      "5   6   Rasmi  578.00   5/21/2013          IT\n",
      "6   7  Pranab  632.80   7/30/2013  Operations\n",
      "7   8    Guru  722.50   6/17/2014     Finance\n",
      "Preview the first 5 lines of the loaded data\n",
      "   id   name  salary  start_date        dept\n",
      "0   1   Rick  623.30    1/1/2012          IT\n",
      "1   2    Dan  515.20   9/23/2013  Operations\n",
      "2   3  Tusar  611.00  11/15/2014          IT\n",
      "3   4   Ryan  729.00   5/11/2014          HR\n",
      "4   5   Gary  843.25   3/27/2015     Finance\n",
      "Filtering specific records and fields\n",
      "   salary   name\n",
      "1   515.2    Dan\n",
      "3   729.0   Ryan\n",
      "5   578.0  Rasmi\n"
     ]
    }
   ],
   "source": [
    "import pandas as pd\n",
    "data=pd.read_json('E:/DataSets/input.json')\n",
    "print(\"Preview the loaded data\")\n",
    "print(data)\n",
    "print(\"Preview the first 5 lines of the loaded data\")\n",
    "print(data.head())\n",
    "print(\"Filtering specific records and fields\")\n",
    "print (data.loc[[1,3,5],['salary','name']])"
   ]
  },
  {
   "cell_type": "code",
   "execution_count": 47,
   "id": "7d183500-91df-4eba-b33c-cf739b6d0ad0",
   "metadata": {},
   "outputs": [
    {
     "name": "stdout",
     "output_type": "stream",
     "text": [
      "Collecting xlrd\n",
      "  Downloading xlrd-2.0.1-py2.py3-none-any.whl.metadata (3.4 kB)\n",
      "Downloading xlrd-2.0.1-py2.py3-none-any.whl (96 kB)\n",
      "Installing collected packages: xlrd\n",
      "Successfully installed xlrd-2.0.1\n"
     ]
    }
   ],
   "source": [
    "!pip install xlrd"
   ]
  },
  {
   "cell_type": "code",
   "execution_count": 59,
   "id": "54e5329e-8f28-4bdb-aa07-aa7294b7c79a",
   "metadata": {},
   "outputs": [
    {
     "name": "stdout",
     "output_type": "stream",
     "text": [
      "Preview the loaded data: Sheet1\n",
      "   id    name  salary start_date        dept\n",
      "0   1    Rick  623.30 2012-01-01          IT\n",
      "1   2     Dan  515.20 2013-09-23  Operations\n",
      "2   3   Tusar  611.00 2014-11-15          IT\n",
      "3   4    Ryan  729.00 2014-05-11          HR\n",
      "4   5    Gary  843.25 2015-03-27     Finance\n",
      "5   6   Rasmi  578.00 2013-05-21          IT\n",
      "6   7  Pranab  632.80 2013-07-30  Operations\n",
      "7   8    Guru  722.50 2014-06-17     Finance\n",
      "Preview the loaded data: Sheet2\n",
      "   id    name  zipcode\n",
      "0   1    Rick   301224\n",
      "1   2     Dan   341255\n",
      "2   3   Tusar   297704\n",
      "3   4    Ryan   216650\n",
      "4   5    Gary   438700\n",
      "5   6   Rasmi   665100\n",
      "6   7  Pranab   341211\n",
      "7   8    Guru   347480\n",
      "Preview the first 5 lines of the loaded data: Sheet1\n",
      "   id   name  salary start_date        dept\n",
      "0   1   Rick  623.30 2012-01-01          IT\n",
      "1   2    Dan  515.20 2013-09-23  Operations\n",
      "2   3  Tusar  611.00 2014-11-15          IT\n",
      "3   4   Ryan  729.00 2014-05-11          HR\n",
      "4   5   Gary  843.25 2015-03-27     Finance\n",
      "Preview the first 5 lines of the loaded data: Sheet2\n",
      "   id   name  zipcode\n",
      "0   1   Rick   301224\n",
      "1   2    Dan   341255\n",
      "2   3  Tusar   297704\n",
      "3   4   Ryan   216650\n",
      "4   5   Gary   438700\n",
      "Filtering specific records and fields: Sheet1\n",
      "    name  salary\n",
      "1    Dan   515.2\n",
      "3   Ryan   729.0\n",
      "5  Rasmi   578.0\n",
      "Filtering specific records and fields: Sheet2\n",
      "    name  zipcode\n",
      "1    Dan   341255\n",
      "3   Ryan   216650\n",
      "5  Rasmi   665100\n"
     ]
    }
   ],
   "source": [
    "import pandas as pd\n",
    "\n",
    "with pd.ExcelFile('E:/DataSets/inputsheets.xls') as xls:\n",
    "    df1 = pd.read_excel(xls, 'Sheet1')\n",
    "    df2 = pd.read_excel(xls, 'Sheet2')\n",
    "\n",
    "print(\"Preview the loaded data: Sheet1\")\n",
    "print(df1)\n",
    "print(\"Preview the loaded data: Sheet2\")\n",
    "print(df2)\n",
    "print(\"Preview the first 5 lines of the loaded data: Sheet1\")\n",
    "print(df1.head())\n",
    "print(\"Preview the first 5 lines of the loaded data: Sheet2\")\n",
    "print(df2.head())\n",
    "print(\"Filtering specific records and fields: Sheet1\")\n",
    "print(df1.loc[[1,3,5],['name','salary']])\n",
    "#print(df1.loc[[1,3,5],['salary','name']])\n",
    "print(\"Filtering specific records and fields: Sheet2\")\n",
    "print(df2.loc[[1,3,5],['name','zipcode']])"
   ]
  },
  {
   "cell_type": "code",
   "execution_count": null,
   "id": "6707fea0-d239-41a8-a69e-286a142d03ad",
   "metadata": {},
   "outputs": [],
   "source": [
    "2"
   ]
  },
  {
   "cell_type": "code",
   "execution_count": 61,
   "id": "bfb8176a-c150-48aa-97d9-73a494a7dee0",
   "metadata": {},
   "outputs": [
    {
     "name": "stdout",
     "output_type": "stream",
     "text": [
      "Requirement already satisfied: sqlalchemy in c:\\users\\acer\\anaconda3\\lib\\site-packages (2.0.34)\n",
      "Requirement already satisfied: typing-extensions>=4.6.0 in c:\\users\\acer\\anaconda3\\lib\\site-packages (from sqlalchemy) (4.11.0)\n",
      "Requirement already satisfied: greenlet!=0.4.17 in c:\\users\\acer\\anaconda3\\lib\\site-packages (from sqlalchemy) (3.0.1)\n"
     ]
    }
   ],
   "source": [
    "!pip install sqlalchemy"
   ]
  },
  {
   "cell_type": "code",
   "execution_count": 63,
   "id": "5101e481-baa8-4589-82a1-ecf04cd12166",
   "metadata": {},
   "outputs": [],
   "source": [
    "from sqlalchemy import create_engine"
   ]
  },
  {
   "cell_type": "code",
   "execution_count": 65,
   "id": "42752106-1c83-49c1-86c1-86395ffca93f",
   "metadata": {},
   "outputs": [],
   "source": [
    "database = create_engine('sqlite:///:memory:')"
   ]
  },
  {
   "cell_type": "code",
   "execution_count": 67,
   "id": "18a2eb64-c14c-48ce-931c-364b6a6f431d",
   "metadata": {},
   "outputs": [
    {
     "data": {
      "text/plain": [
       "8"
      ]
     },
     "execution_count": 67,
     "metadata": {},
     "output_type": "execute_result"
    }
   ],
   "source": [
    "data.to_sql('emp', database)"
   ]
  },
  {
   "cell_type": "code",
   "execution_count": 69,
   "id": "81b8e0b3-2400-4925-ace8-ff3c0a844e58",
   "metadata": {},
   "outputs": [
    {
     "name": "stdout",
     "output_type": "stream",
     "text": [
      "Result 1\n",
      "   index  id    name  salary  start_date        dept\n",
      "0      0   1    Rick  623.30    1/1/2012          IT\n",
      "1      1   2     Dan  515.20   9/23/2013  Operations\n",
      "2      2   3   Tusar  611.00  11/15/2014          IT\n",
      "3      3   4    Ryan  729.00   5/11/2014          HR\n",
      "4      4   5    Gary  843.25   3/27/2015     Finance\n",
      "5      5   6   Rasmi  578.00   5/21/2013          IT\n",
      "6      6   7  Pranab  632.80   7/30/2013  Operations\n",
      "7      7   8    Guru  722.50   6/17/2014     Finance\n",
      "\n"
     ]
    }
   ],
   "source": [
    "res1 = pd.read_sql_query('SELECT * FROM emp', database)\n",
    "print('Result 1')\n",
    "print(res1)\n",
    "print('')\n",
    "\n"
   ]
  },
  {
   "cell_type": "code",
   "execution_count": 77,
   "id": "50d414b6-953d-4aba-8d8e-05a206bd7126",
   "metadata": {},
   "outputs": [
    {
     "name": "stdout",
     "output_type": "stream",
     "text": [
      "Result 2\n",
      "         dept  sum(salary)\n",
      "0     Finance      1565.75\n",
      "1          HR       729.00\n",
      "2          IT      1812.30\n",
      "3  Operations      1148.00\n"
     ]
    }
   ],
   "source": [
    "res2 = pd.read_sql_query('SELECT dept,sum(salary) FROM emp group by dept',database)\n",
    "print('Result 2')\n",
    "print(res2)"
   ]
  },
  {
   "cell_type": "code",
   "execution_count": 79,
   "id": "96538a57-1f12-48ae-850a-108103ef06e2",
   "metadata": {},
   "outputs": [
    {
     "name": "stdout",
     "output_type": "stream",
     "text": [
      "Result 3\n",
      "         dept  avg(salary)\n",
      "0     Finance      782.875\n",
      "1          HR      729.000\n",
      "2          IT      604.100\n",
      "3  Operations      574.000\n"
     ]
    }
   ],
   "source": [
    "res3 = pd.read_sql_query('SELECT dept,avg(salary) FROM emp group by dept',database)\n",
    "print('Result 3')\n",
    "print(res3)"
   ]
  },
  {
   "cell_type": "code",
   "execution_count": 81,
   "id": "a2047080-20f1-4ed6-8626-1e42b4966a69",
   "metadata": {},
   "outputs": [
    {
     "name": "stdout",
     "output_type": "stream",
     "text": [
      "Result 4\n"
     ]
    }
   ],
   "source": [
    "res4 = pd.read_sql_query('SELECT dept,count(*) Number_of_Employees,min(salary),max(salary) FROM emp group by dept', database)\n",
    "print('Result 4')"
   ]
  },
  {
   "cell_type": "code",
   "execution_count": 83,
   "id": "2ee65a00-2fdd-4a56-8dc1-8fe277d6eeb5",
   "metadata": {},
   "outputs": [
    {
     "name": "stdout",
     "output_type": "stream",
     "text": [
      "         dept  Number_of_Employees  min(salary)  max(salary)\n",
      "0     Finance                    2        722.5       843.25\n",
      "1          HR                    1        729.0       729.00\n",
      "2          IT                    3        578.0       623.30\n",
      "3  Operations                    2        515.2       632.80\n"
     ]
    }
   ],
   "source": [
    "print(res4)"
   ]
  },
  {
   "cell_type": "code",
   "execution_count": null,
   "id": "45e97d21-e292-47b1-8a4d-4302e0e45559",
   "metadata": {},
   "outputs": [],
   "source": [
    "3"
   ]
  },
  {
   "cell_type": "code",
   "execution_count": 85,
   "id": "524c4e1d-56ad-4ad8-b6c9-563264cbcde9",
   "metadata": {},
   "outputs": [
    {
     "name": "stdout",
     "output_type": "stream",
     "text": [
      "Collecting mysql\n",
      "  Downloading mysql-0.0.3-py3-none-any.whl.metadata (746 bytes)\n",
      "Collecting mysqlclient (from mysql)\n",
      "  Downloading mysqlclient-2.2.6-cp312-cp312-win_amd64.whl.metadata (4.8 kB)\n",
      "Downloading mysql-0.0.3-py3-none-any.whl (1.2 kB)\n",
      "Downloading mysqlclient-2.2.6-cp312-cp312-win_amd64.whl (207 kB)\n",
      "Installing collected packages: mysqlclient, mysql\n",
      "Successfully installed mysql-0.0.3 mysqlclient-2.2.6\n",
      "Collecting mysql-connector\n",
      "  Downloading mysql-connector-2.2.9.tar.gz (11.9 MB)\n",
      "     ---------------------------------------- 0.0/11.9 MB ? eta -:--:--\n",
      "     ---------------------------------------- 0.0/11.9 MB ? eta -:--:--\n",
      "      --------------------------------------- 0.3/11.9 MB ? eta -:--:--\n",
      "     - ------------------------------------- 0.5/11.9 MB 762.0 kB/s eta 0:00:15\n",
      "     - ------------------------------------- 0.5/11.9 MB 762.0 kB/s eta 0:00:15\n",
      "     - ------------------------------------- 0.5/11.9 MB 762.0 kB/s eta 0:00:15\n",
      "     -- ------------------------------------ 0.8/11.9 MB 644.9 kB/s eta 0:00:18\n",
      "     -- ------------------------------------ 0.8/11.9 MB 644.9 kB/s eta 0:00:18\n",
      "     -- ------------------------------------ 0.8/11.9 MB 644.9 kB/s eta 0:00:18\n",
      "     --- ----------------------------------- 1.0/11.9 MB 518.8 kB/s eta 0:00:21\n",
      "     --- ----------------------------------- 1.0/11.9 MB 518.8 kB/s eta 0:00:21\n",
      "     ---- ---------------------------------- 1.3/11.9 MB 524.3 kB/s eta 0:00:21\n",
      "     ----- --------------------------------- 1.6/11.9 MB 570.6 kB/s eta 0:00:19\n",
      "     ----- --------------------------------- 1.6/11.9 MB 570.6 kB/s eta 0:00:19\n",
      "     ------ -------------------------------- 1.8/11.9 MB 585.1 kB/s eta 0:00:18\n",
      "     ------ -------------------------------- 1.8/11.9 MB 585.1 kB/s eta 0:00:18\n",
      "     ------ -------------------------------- 1.8/11.9 MB 585.1 kB/s eta 0:00:18\n",
      "     ------ -------------------------------- 2.1/11.9 MB 543.7 kB/s eta 0:00:18\n",
      "     ------ -------------------------------- 2.1/11.9 MB 543.7 kB/s eta 0:00:18\n",
      "     ------ -------------------------------- 2.1/11.9 MB 543.7 kB/s eta 0:00:18\n",
      "     ------ -------------------------------- 2.1/11.9 MB 543.7 kB/s eta 0:00:18\n",
      "     ------ -------------------------------- 2.1/11.9 MB 543.7 kB/s eta 0:00:18\n",
      "     ------- ------------------------------- 2.4/11.9 MB 489.9 kB/s eta 0:00:20\n",
      "     ------- ------------------------------- 2.4/11.9 MB 489.9 kB/s eta 0:00:20\n",
      "     ------- ------------------------------- 2.4/11.9 MB 489.9 kB/s eta 0:00:20\n",
      "     ------- ------------------------------- 2.4/11.9 MB 489.9 kB/s eta 0:00:20\n",
      "     -------- ------------------------------ 2.6/11.9 MB 453.4 kB/s eta 0:00:21\n",
      "     -------- ------------------------------ 2.6/11.9 MB 453.4 kB/s eta 0:00:21\n",
      "     -------- ------------------------------ 2.6/11.9 MB 453.4 kB/s eta 0:00:21\n",
      "     -------- ------------------------------ 2.6/11.9 MB 453.4 kB/s eta 0:00:21\n",
      "     --------- ----------------------------- 2.9/11.9 MB 439.2 kB/s eta 0:00:21\n",
      "     --------- ----------------------------- 2.9/11.9 MB 439.2 kB/s eta 0:00:21\n",
      "     --------- ----------------------------- 2.9/11.9 MB 439.2 kB/s eta 0:00:21\n",
      "     ---------- ---------------------------- 3.1/11.9 MB 424.2 kB/s eta 0:00:21\n",
      "     ---------- ---------------------------- 3.1/11.9 MB 424.2 kB/s eta 0:00:21\n",
      "     ---------- ---------------------------- 3.1/11.9 MB 424.2 kB/s eta 0:00:21\n",
      "     ----------- --------------------------- 3.4/11.9 MB 427.4 kB/s eta 0:00:20\n",
      "     ----------- --------------------------- 3.4/11.9 MB 427.4 kB/s eta 0:00:20\n",
      "     ----------- --------------------------- 3.4/11.9 MB 427.4 kB/s eta 0:00:20\n",
      "     ------------ -------------------------- 3.7/11.9 MB 430.2 kB/s eta 0:00:20\n",
      "     ------------ -------------------------- 3.7/11.9 MB 430.2 kB/s eta 0:00:20\n",
      "     ------------ -------------------------- 3.7/11.9 MB 430.2 kB/s eta 0:00:20\n",
      "     ------------ -------------------------- 3.9/11.9 MB 423.2 kB/s eta 0:00:19\n",
      "     ------------ -------------------------- 3.9/11.9 MB 423.2 kB/s eta 0:00:19\n",
      "     ------------ -------------------------- 3.9/11.9 MB 423.2 kB/s eta 0:00:19\n",
      "     ------------- ------------------------- 4.2/11.9 MB 422.2 kB/s eta 0:00:19\n",
      "     ------------- ------------------------- 4.2/11.9 MB 422.2 kB/s eta 0:00:19\n",
      "     -------------- ------------------------ 4.5/11.9 MB 431.6 kB/s eta 0:00:18\n",
      "     -------------- ------------------------ 4.5/11.9 MB 431.6 kB/s eta 0:00:18\n",
      "     --------------- ----------------------- 4.7/11.9 MB 440.1 kB/s eta 0:00:17\n",
      "     --------------- ----------------------- 4.7/11.9 MB 440.1 kB/s eta 0:00:17\n",
      "     --------------- ----------------------- 4.7/11.9 MB 440.1 kB/s eta 0:00:17\n",
      "     --------------- ----------------------- 4.7/11.9 MB 440.1 kB/s eta 0:00:17\n",
      "     ---------------- ---------------------- 5.0/11.9 MB 430.8 kB/s eta 0:00:16\n",
      "     ---------------- ---------------------- 5.0/11.9 MB 430.8 kB/s eta 0:00:16\n",
      "     ---------------- ---------------------- 5.0/11.9 MB 430.8 kB/s eta 0:00:16\n",
      "     ---------------- ---------------------- 5.0/11.9 MB 430.8 kB/s eta 0:00:16\n",
      "     ----------------- --------------------- 5.2/11.9 MB 423.3 kB/s eta 0:00:16\n",
      "     ----------------- --------------------- 5.2/11.9 MB 423.3 kB/s eta 0:00:16\n",
      "     ------------------ -------------------- 5.5/11.9 MB 430.2 kB/s eta 0:00:15\n",
      "     ------------------ -------------------- 5.5/11.9 MB 430.2 kB/s eta 0:00:15\n",
      "     ------------------ -------------------- 5.5/11.9 MB 430.2 kB/s eta 0:00:15\n",
      "     ------------------ -------------------- 5.8/11.9 MB 429.1 kB/s eta 0:00:15\n",
      "     ------------------ -------------------- 5.8/11.9 MB 429.1 kB/s eta 0:00:15\n",
      "     ------------------- ------------------- 6.0/11.9 MB 433.2 kB/s eta 0:00:14\n",
      "     ------------------- ------------------- 6.0/11.9 MB 433.2 kB/s eta 0:00:14\n",
      "     -------------------- ------------------ 6.3/11.9 MB 440.0 kB/s eta 0:00:13\n",
      "     --------------------- ----------------- 6.6/11.9 MB 446.9 kB/s eta 0:00:12\n",
      "     --------------------- ----------------- 6.6/11.9 MB 446.9 kB/s eta 0:00:12\n",
      "     ---------------------- ---------------- 6.8/11.9 MB 452.9 kB/s eta 0:00:12\n",
      "     ----------------------- --------------- 7.1/11.9 MB 465.0 kB/s eta 0:00:11\n",
      "     ----------------------- --------------- 7.1/11.9 MB 465.0 kB/s eta 0:00:11\n",
      "     ------------------------ -------------- 7.3/11.9 MB 471.9 kB/s eta 0:00:10\n",
      "     ------------------------- ------------- 7.6/11.9 MB 481.8 kB/s eta 0:00:09\n",
      "     ------------------------- ------------- 7.6/11.9 MB 481.8 kB/s eta 0:00:09\n",
      "     -------------------------- ------------ 8.1/11.9 MB 497.3 kB/s eta 0:00:08\n",
      "     --------------------------- ----------- 8.4/11.9 MB 506.4 kB/s eta 0:00:07\n",
      "     ---------------------------- ---------- 8.7/11.9 MB 517.7 kB/s eta 0:00:07\n",
      "     ------------------------------- ------- 9.4/11.9 MB 556.6 kB/s eta 0:00:05\n",
      "     ------------------------------- ------- 9.7/11.9 MB 568.7 kB/s eta 0:00:04\n",
      "     -------------------------------- ----- 10.2/11.9 MB 590.3 kB/s eta 0:00:03\n",
      "     ---------------------------------- --- 10.7/11.9 MB 612.3 kB/s eta 0:00:02\n",
      "     ----------------------------------- -- 11.0/11.9 MB 620.8 kB/s eta 0:00:02\n",
      "     ------------------------------------ - 11.5/11.9 MB 642.4 kB/s eta 0:00:01\n",
      "     -------------------------------------  11.8/11.9 MB 649.2 kB/s eta 0:00:01\n",
      "     -------------------------------------- 11.9/11.9 MB 650.1 kB/s eta 0:00:00\n",
      "  Preparing metadata (setup.py): started\n",
      "  Preparing metadata (setup.py): finished with status 'done'\n",
      "Building wheels for collected packages: mysql-connector\n",
      "  Building wheel for mysql-connector (setup.py): started\n",
      "  Building wheel for mysql-connector (setup.py): finished with status 'done'\n",
      "  Created wheel for mysql-connector: filename=mysql_connector-2.2.9-cp312-cp312-win_amd64.whl size=247959 sha256=80163d6c094117f2e5973373f75b14f7b44519421a13a4a129ca114e574856e8\n",
      "  Stored in directory: c:\\users\\acer\\appdata\\local\\pip\\cache\\wheels\\03\\17\\fa\\d7604c72dd3dd6d3eb3d249abf36cc532c9a9b4354b8f1bc4f\n",
      "Successfully built mysql-connector\n",
      "Installing collected packages: mysql-connector\n",
      "Successfully installed mysql-connector-2.2.9\n"
     ]
    }
   ],
   "source": [
    "!pip install mysql\n",
    "!pip install mysql-connector"
   ]
  },
  {
   "cell_type": "code",
   "execution_count": 21,
   "id": "decf1887-de87-4edf-b219-69454553abf9",
   "metadata": {},
   "outputs": [],
   "source": [
    "import mysql.connector as con"
   ]
  },
  {
   "cell_type": "code",
   "execution_count": 6,
   "id": "07b46465-ce4c-44e1-8706-496c0e59bfd6",
   "metadata": {},
   "outputs": [
    {
     "name": "stdout",
     "output_type": "stream",
     "text": [
      "information_schema\n",
      "light\n",
      "mysql\n",
      "performance_schema\n",
      "phpmyadmin\n",
      "test\n"
     ]
    }
   ],
   "source": [
    "db=con.connect( host = 'localhost',\n",
    "database = 'mysql',\n",
    "user = 'root', \n",
    "password = '')\n",
    "\n",
    "cur = db.cursor()\n",
    "\n",
    "cur.execute( \" show databases \" )\n",
    "\n",
    "for row in cur.fetchall():\n",
    "    print(row[0])\n",
    "    \n",
    "db.close()"
   ]
  },
  {
   "cell_type": "code",
   "execution_count": 3,
   "id": "f795fc32-04cb-4794-9da9-0de8f7626017",
   "metadata": {},
   "outputs": [
    {
     "ename": "ProgrammingError",
     "evalue": "1049 (42000): Unknown database 'student'",
     "output_type": "error",
     "traceback": [
      "\u001b[1;31m---------------------------------------------------------------------------\u001b[0m",
      "\u001b[1;31mProgrammingError\u001b[0m                          Traceback (most recent call last)",
      "Cell \u001b[1;32mIn[3], line 5\u001b[0m\n\u001b[0;32m      2\u001b[0m \u001b[38;5;28;01mimport\u001b[39;00m \u001b[38;5;21;01mmysql\u001b[39;00m\u001b[38;5;21;01m.\u001b[39;00m\u001b[38;5;21;01mconnector\u001b[39;00m \u001b[38;5;28;01mas\u001b[39;00m \u001b[38;5;21;01mcon\u001b[39;00m\n\u001b[0;32m      4\u001b[0m \u001b[38;5;66;03m# To establish a connection to the database\u001b[39;00m\n\u001b[1;32m----> 5\u001b[0m db\u001b[38;5;241m=\u001b[39mcon\u001b[38;5;241m.\u001b[39mconnect( host \u001b[38;5;241m=\u001b[39m \u001b[38;5;124m'\u001b[39m\u001b[38;5;124mlocalhost\u001b[39m\u001b[38;5;124m'\u001b[39m, \n\u001b[0;32m      6\u001b[0m              database \u001b[38;5;241m=\u001b[39m \u001b[38;5;124m'\u001b[39m\u001b[38;5;124mstudent\u001b[39m\u001b[38;5;124m'\u001b[39m,\n\u001b[0;32m      7\u001b[0m              user \u001b[38;5;241m=\u001b[39m \u001b[38;5;124m'\u001b[39m\u001b[38;5;124mroot\u001b[39m\u001b[38;5;124m'\u001b[39m, \n\u001b[0;32m      8\u001b[0m              password \u001b[38;5;241m=\u001b[39m \u001b[38;5;124m'\u001b[39m\u001b[38;5;124m'\u001b[39m)\n\u001b[0;32m      9\u001b[0m \u001b[38;5;124;03m\"\"\"\u001b[39;00m\n\u001b[0;32m     10\u001b[0m \u001b[38;5;124;03m#You must create a Cursor object.\u001b[39;00m\n\u001b[0;32m     11\u001b[0m \u001b[38;5;124;03m#It will let you execute all the queries you need\u001b[39;00m\n\u001b[0;32m     12\u001b[0m \u001b[38;5;124;03m\"\"\"\u001b[39;00m\n\u001b[0;32m     13\u001b[0m cur \u001b[38;5;241m=\u001b[39m db\u001b[38;5;241m.\u001b[39mcursor()\n",
      "File \u001b[1;32m~\\anaconda3\\Lib\\site-packages\\mysql\\connector\\__init__.py:179\u001b[0m, in \u001b[0;36mconnect\u001b[1;34m(*args, **kwargs)\u001b[0m\n\u001b[0;32m    177\u001b[0m     \u001b[38;5;28;01mreturn\u001b[39;00m CMySQLConnection(\u001b[38;5;241m*\u001b[39margs, \u001b[38;5;241m*\u001b[39m\u001b[38;5;241m*\u001b[39mkwargs)\n\u001b[0;32m    178\u001b[0m \u001b[38;5;28;01melse\u001b[39;00m:\n\u001b[1;32m--> 179\u001b[0m     \u001b[38;5;28;01mreturn\u001b[39;00m MySQLConnection(\u001b[38;5;241m*\u001b[39margs, \u001b[38;5;241m*\u001b[39m\u001b[38;5;241m*\u001b[39mkwargs)\n",
      "File \u001b[1;32m~\\anaconda3\\Lib\\site-packages\\mysql\\connector\\connection.py:95\u001b[0m, in \u001b[0;36mMySQLConnection.__init__\u001b[1;34m(self, *args, **kwargs)\u001b[0m\n\u001b[0;32m     92\u001b[0m \u001b[38;5;28mself\u001b[39m\u001b[38;5;241m.\u001b[39m_pool_config_version \u001b[38;5;241m=\u001b[39m \u001b[38;5;28;01mNone\u001b[39;00m\n\u001b[0;32m     94\u001b[0m \u001b[38;5;28;01mif\u001b[39;00m \u001b[38;5;28mlen\u001b[39m(kwargs) \u001b[38;5;241m>\u001b[39m \u001b[38;5;241m0\u001b[39m:\n\u001b[1;32m---> 95\u001b[0m     \u001b[38;5;28mself\u001b[39m\u001b[38;5;241m.\u001b[39mconnect(\u001b[38;5;241m*\u001b[39m\u001b[38;5;241m*\u001b[39mkwargs)\n",
      "File \u001b[1;32m~\\anaconda3\\Lib\\site-packages\\mysql\\connector\\abstracts.py:716\u001b[0m, in \u001b[0;36mMySQLConnectionAbstract.connect\u001b[1;34m(self, **kwargs)\u001b[0m\n\u001b[0;32m    713\u001b[0m     \u001b[38;5;28mself\u001b[39m\u001b[38;5;241m.\u001b[39mconfig(\u001b[38;5;241m*\u001b[39m\u001b[38;5;241m*\u001b[39mkwargs)\n\u001b[0;32m    715\u001b[0m \u001b[38;5;28mself\u001b[39m\u001b[38;5;241m.\u001b[39mdisconnect()\n\u001b[1;32m--> 716\u001b[0m \u001b[38;5;28mself\u001b[39m\u001b[38;5;241m.\u001b[39m_open_connection()\n\u001b[0;32m    717\u001b[0m \u001b[38;5;28mself\u001b[39m\u001b[38;5;241m.\u001b[39m_post_connection()\n",
      "File \u001b[1;32m~\\anaconda3\\Lib\\site-packages\\mysql\\connector\\connection.py:208\u001b[0m, in \u001b[0;36mMySQLConnection._open_connection\u001b[1;34m(self)\u001b[0m\n\u001b[0;32m    206\u001b[0m \u001b[38;5;28mself\u001b[39m\u001b[38;5;241m.\u001b[39m_socket\u001b[38;5;241m.\u001b[39mopen_connection()\n\u001b[0;32m    207\u001b[0m \u001b[38;5;28mself\u001b[39m\u001b[38;5;241m.\u001b[39m_do_handshake()\n\u001b[1;32m--> 208\u001b[0m \u001b[38;5;28mself\u001b[39m\u001b[38;5;241m.\u001b[39m_do_auth(\u001b[38;5;28mself\u001b[39m\u001b[38;5;241m.\u001b[39m_user, \u001b[38;5;28mself\u001b[39m\u001b[38;5;241m.\u001b[39m_password,\n\u001b[0;32m    209\u001b[0m               \u001b[38;5;28mself\u001b[39m\u001b[38;5;241m.\u001b[39m_database, \u001b[38;5;28mself\u001b[39m\u001b[38;5;241m.\u001b[39m_client_flags, \u001b[38;5;28mself\u001b[39m\u001b[38;5;241m.\u001b[39m_charset_id,\n\u001b[0;32m    210\u001b[0m               \u001b[38;5;28mself\u001b[39m\u001b[38;5;241m.\u001b[39m_ssl)\n\u001b[0;32m    211\u001b[0m \u001b[38;5;28mself\u001b[39m\u001b[38;5;241m.\u001b[39mset_converter_class(\u001b[38;5;28mself\u001b[39m\u001b[38;5;241m.\u001b[39m_converter_class)\n\u001b[0;32m    212\u001b[0m \u001b[38;5;28;01mif\u001b[39;00m \u001b[38;5;28mself\u001b[39m\u001b[38;5;241m.\u001b[39m_client_flags \u001b[38;5;241m&\u001b[39m ClientFlag\u001b[38;5;241m.\u001b[39mCOMPRESS:\n",
      "File \u001b[1;32m~\\anaconda3\\Lib\\site-packages\\mysql\\connector\\connection.py:144\u001b[0m, in \u001b[0;36mMySQLConnection._do_auth\u001b[1;34m(self, username, password, database, client_flags, charset, ssl_options)\u001b[0m\n\u001b[0;32m    137\u001b[0m packet \u001b[38;5;241m=\u001b[39m \u001b[38;5;28mself\u001b[39m\u001b[38;5;241m.\u001b[39m_protocol\u001b[38;5;241m.\u001b[39mmake_auth(\n\u001b[0;32m    138\u001b[0m     handshake\u001b[38;5;241m=\u001b[39m\u001b[38;5;28mself\u001b[39m\u001b[38;5;241m.\u001b[39m_handshake,\n\u001b[0;32m    139\u001b[0m     username\u001b[38;5;241m=\u001b[39musername, password\u001b[38;5;241m=\u001b[39mpassword, database\u001b[38;5;241m=\u001b[39mdatabase,\n\u001b[0;32m    140\u001b[0m     charset\u001b[38;5;241m=\u001b[39mcharset, client_flags\u001b[38;5;241m=\u001b[39mclient_flags,\n\u001b[0;32m    141\u001b[0m     ssl_enabled\u001b[38;5;241m=\u001b[39m\u001b[38;5;28mself\u001b[39m\u001b[38;5;241m.\u001b[39m_ssl_active,\n\u001b[0;32m    142\u001b[0m     auth_plugin\u001b[38;5;241m=\u001b[39m\u001b[38;5;28mself\u001b[39m\u001b[38;5;241m.\u001b[39m_auth_plugin)\n\u001b[0;32m    143\u001b[0m \u001b[38;5;28mself\u001b[39m\u001b[38;5;241m.\u001b[39m_socket\u001b[38;5;241m.\u001b[39msend(packet)\n\u001b[1;32m--> 144\u001b[0m \u001b[38;5;28mself\u001b[39m\u001b[38;5;241m.\u001b[39m_auth_switch_request(username, password)\n\u001b[0;32m    146\u001b[0m \u001b[38;5;28;01mif\u001b[39;00m \u001b[38;5;129;01mnot\u001b[39;00m (client_flags \u001b[38;5;241m&\u001b[39m ClientFlag\u001b[38;5;241m.\u001b[39mCONNECT_WITH_DB) \u001b[38;5;129;01mand\u001b[39;00m database:\n\u001b[0;32m    147\u001b[0m     \u001b[38;5;28mself\u001b[39m\u001b[38;5;241m.\u001b[39mcmd_init_db(database)\n",
      "File \u001b[1;32m~\\anaconda3\\Lib\\site-packages\\mysql\\connector\\connection.py:177\u001b[0m, in \u001b[0;36mMySQLConnection._auth_switch_request\u001b[1;34m(self, username, password)\u001b[0m\n\u001b[0;32m    175\u001b[0m         auth_data \u001b[38;5;241m=\u001b[39m \u001b[38;5;28mself\u001b[39m\u001b[38;5;241m.\u001b[39m_protocol\u001b[38;5;241m.\u001b[39mparse_auth_more_data(packet)\n\u001b[0;32m    176\u001b[0m \u001b[38;5;28;01melif\u001b[39;00m packet[\u001b[38;5;241m4\u001b[39m] \u001b[38;5;241m==\u001b[39m \u001b[38;5;241m255\u001b[39m:\n\u001b[1;32m--> 177\u001b[0m     \u001b[38;5;28;01mraise\u001b[39;00m errors\u001b[38;5;241m.\u001b[39mget_exception(packet)\n",
      "\u001b[1;31mProgrammingError\u001b[0m: 1049 (42000): Unknown database 'student'"
     ]
    }
   ],
   "source": [
    "# Importing the MySQL Connector module For Connecting To MySQL database\n",
    "import mysql.connector as con\n",
    "\n",
    "# To establish a connection to the database\n",
    "db=con.connect( host = 'localhost', \n",
    "             database = 'student',\n",
    "             user = 'root', \n",
    "             password = '')\n",
    "\"\"\"\n",
    "#You must create a Cursor object.\n",
    "#It will let you execute all the queries you need\n",
    "\"\"\"\n",
    "cur = db.cursor()\n",
    "\n",
    "# Use all the SQL you like\n",
    "cur.execute( \" CREATE TABLE IF NOT EXISTS students2 ( stud_id varchar(10) PRIMARY KEY, stud_name VARCHAR(215), address VARCHAR(215), city char(100)) \")\n",
    "\n",
    "cur.execute( \" show tables \" )\n",
    "\n",
    "for row in cur.fetchall():\n",
    "    print(row[0])\n",
    "    \n",
    "db.close()"
   ]
  },
  {
   "cell_type": "code",
   "execution_count": 15,
   "id": "7b82906a-6743-4ec4-8bde-65b0103a4ce1",
   "metadata": {},
   "outputs": [
    {
     "name": "stdout",
     "output_type": "stream",
     "text": [
      "('Yeltsin', 72)\n"
     ]
    }
   ],
   "source": [
    "import sqlite3\n",
    "con = sqlite3.connect(\":memory:\")\n",
    "cur = con.cursor()\n",
    "cur.execute(\"create table people (name, age)\")\n",
    "who = \"Yeltsin\"\n",
    "age = 72\n",
    "# This is the qmark style:\n",
    "12\n",
    "cur.execute(\"insert into people values (?, ?)\", (who, age))\n",
    "# And this is the named style:\n",
    "cur.execute(\"select * from people where name=:who and age=:age\", {\"who\": who,\"age\": age})\n",
    "print(cur.fetchone())\n",
    "con.close()"
   ]
  },
  {
   "cell_type": "code",
   "execution_count": null,
   "id": "0f366888-f23c-415d-bc01-37786155920d",
   "metadata": {},
   "outputs": [],
   "source": []
  }
 ],
 "metadata": {
  "kernelspec": {
   "display_name": "Python 3 (ipykernel)",
   "language": "python",
   "name": "python3"
  },
  "language_info": {
   "codemirror_mode": {
    "name": "ipython",
    "version": 3
   },
   "file_extension": ".py",
   "mimetype": "text/x-python",
   "name": "python",
   "nbconvert_exporter": "python",
   "pygments_lexer": "ipython3",
   "version": "3.11.9"
  }
 },
 "nbformat": 4,
 "nbformat_minor": 5
}
