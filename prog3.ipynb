{
 "cells": [
  {
   "cell_type": "code",
   "execution_count": 2,
   "id": "ed52925e-d5da-486b-a04e-d7105dd4fcd5",
   "metadata": {},
   "outputs": [
    {
     "name": "stdout",
     "output_type": "stream",
     "text": [
      "Requirement already satisfied: statsmodels in c:\\users\\acer\\anaconda3\\lib\\site-packages (0.14.2)\n",
      "Requirement already satisfied: seaborn in c:\\users\\acer\\anaconda3\\lib\\site-packages (0.13.2)\n",
      "Requirement already satisfied: numpy>=1.22.3 in c:\\users\\acer\\anaconda3\\lib\\site-packages (from statsmodels) (1.26.4)\n",
      "Requirement already satisfied: scipy!=1.9.2,>=1.8 in c:\\users\\acer\\anaconda3\\lib\\site-packages (from statsmodels) (1.13.1)\n",
      "Requirement already satisfied: pandas!=2.1.0,>=1.4 in c:\\users\\acer\\anaconda3\\lib\\site-packages (from statsmodels) (2.2.2)\n",
      "Requirement already satisfied: patsy>=0.5.6 in c:\\users\\acer\\anaconda3\\lib\\site-packages (from statsmodels) (0.5.6)\n",
      "Requirement already satisfied: packaging>=21.3 in c:\\users\\acer\\anaconda3\\lib\\site-packages (from statsmodels) (24.1)\n",
      "Requirement already satisfied: matplotlib!=3.6.1,>=3.4 in c:\\users\\acer\\anaconda3\\lib\\site-packages (from seaborn) (3.9.2)\n",
      "Requirement already satisfied: contourpy>=1.0.1 in c:\\users\\acer\\anaconda3\\lib\\site-packages (from matplotlib!=3.6.1,>=3.4->seaborn) (1.2.0)\n",
      "Requirement already satisfied: cycler>=0.10 in c:\\users\\acer\\anaconda3\\lib\\site-packages (from matplotlib!=3.6.1,>=3.4->seaborn) (0.11.0)\n",
      "Requirement already satisfied: fonttools>=4.22.0 in c:\\users\\acer\\anaconda3\\lib\\site-packages (from matplotlib!=3.6.1,>=3.4->seaborn) (4.51.0)\n",
      "Requirement already satisfied: kiwisolver>=1.3.1 in c:\\users\\acer\\anaconda3\\lib\\site-packages (from matplotlib!=3.6.1,>=3.4->seaborn) (1.4.4)\n",
      "Requirement already satisfied: pillow>=8 in c:\\users\\acer\\anaconda3\\lib\\site-packages (from matplotlib!=3.6.1,>=3.4->seaborn) (10.4.0)\n",
      "Requirement already satisfied: pyparsing>=2.3.1 in c:\\users\\acer\\anaconda3\\lib\\site-packages (from matplotlib!=3.6.1,>=3.4->seaborn) (3.1.2)\n",
      "Requirement already satisfied: python-dateutil>=2.7 in c:\\users\\acer\\anaconda3\\lib\\site-packages (from matplotlib!=3.6.1,>=3.4->seaborn) (2.9.0.post0)\n",
      "Requirement already satisfied: pytz>=2020.1 in c:\\users\\acer\\anaconda3\\lib\\site-packages (from pandas!=2.1.0,>=1.4->statsmodels) (2024.1)\n",
      "Requirement already satisfied: tzdata>=2022.7 in c:\\users\\acer\\anaconda3\\lib\\site-packages (from pandas!=2.1.0,>=1.4->statsmodels) (2023.3)\n",
      "Requirement already satisfied: six in c:\\users\\acer\\anaconda3\\lib\\site-packages (from patsy>=0.5.6->statsmodels) (1.16.0)\n"
     ]
    }
   ],
   "source": [
    "!pip install statsmodels seaborn"
   ]
  },
  {
   "cell_type": "code",
   "execution_count": 4,
   "id": "8cecc77f-6da5-4810-8ed5-61bf426056f0",
   "metadata": {},
   "outputs": [],
   "source": [
    "# Import Packages\n",
    "import pandas as pd\n",
    "import numpy as np\n",
    "import dateutil\n",
    "# Visualization\n",
    "import matplotlib.pyplot as plt\n",
    "import statsmodels.api as sm\n",
    "import seaborn as sns\n",
    "# suppress the warning adding the following lines to the imports of your program\n",
    "import warnings\n",
    "#warnings.simplefilter(action='ignore', category=FutureWarning)\n",
    "# ignore all warnings\n",
    "warnings.filterwarnings('ignore')\n",
    "%matplotlib inline\n",
    "# sns.set(rc={'figure.figsize': [20, 20]}, font_scale=1.4)\n",
    "sns.set_theme(color_codes=True)"
   ]
  },
  {
   "cell_type": "code",
   "execution_count": 56,
   "id": "7be25192-e276-46b5-9175-3363c1cf905b",
   "metadata": {},
   "outputs": [
    {
     "data": {
      "text/html": [
       "<div>\n",
       "<style scoped>\n",
       "    .dataframe tbody tr th:only-of-type {\n",
       "        vertical-align: middle;\n",
       "    }\n",
       "\n",
       "    .dataframe tbody tr th {\n",
       "        vertical-align: top;\n",
       "    }\n",
       "\n",
       "    .dataframe thead th {\n",
       "        text-align: right;\n",
       "    }\n",
       "</style>\n",
       "<table border=\"1\" class=\"dataframe\">\n",
       "  <thead>\n",
       "    <tr style=\"text-align: right;\">\n",
       "      <th></th>\n",
       "      <th>index</th>\n",
       "      <th>date</th>\n",
       "      <th>duration</th>\n",
       "      <th>item</th>\n",
       "      <th>month</th>\n",
       "      <th>network</th>\n",
       "      <th>network_type</th>\n",
       "    </tr>\n",
       "  </thead>\n",
       "  <tbody>\n",
       "    <tr>\n",
       "      <th>0</th>\n",
       "      <td>0</td>\n",
       "      <td>15/10/14 06:58</td>\n",
       "      <td>34.429</td>\n",
       "      <td>data</td>\n",
       "      <td>2014-11</td>\n",
       "      <td>data</td>\n",
       "      <td>data</td>\n",
       "    </tr>\n",
       "    <tr>\n",
       "      <th>1</th>\n",
       "      <td>1</td>\n",
       "      <td>15/10/14 06:58</td>\n",
       "      <td>13.000</td>\n",
       "      <td>call</td>\n",
       "      <td>2014-11</td>\n",
       "      <td>Vodafone</td>\n",
       "      <td>mobile</td>\n",
       "    </tr>\n",
       "    <tr>\n",
       "      <th>2</th>\n",
       "      <td>2</td>\n",
       "      <td>15/10/14 14:46</td>\n",
       "      <td>23.000</td>\n",
       "      <td>call</td>\n",
       "      <td>2014-11</td>\n",
       "      <td>Meteor</td>\n",
       "      <td>mobile</td>\n",
       "    </tr>\n",
       "    <tr>\n",
       "      <th>3</th>\n",
       "      <td>3</td>\n",
       "      <td>15/10/14 14:48</td>\n",
       "      <td>4.000</td>\n",
       "      <td>call</td>\n",
       "      <td>2014-11</td>\n",
       "      <td>Tesco</td>\n",
       "      <td>mobile</td>\n",
       "    </tr>\n",
       "    <tr>\n",
       "      <th>4</th>\n",
       "      <td>4</td>\n",
       "      <td>15/10/14 17:27</td>\n",
       "      <td>4.000</td>\n",
       "      <td>call</td>\n",
       "      <td>2014-11</td>\n",
       "      <td>Tesco</td>\n",
       "      <td>mobile</td>\n",
       "    </tr>\n",
       "  </tbody>\n",
       "</table>\n",
       "</div>"
      ],
      "text/plain": [
       "   index            date  duration  item    month   network network_type\n",
       "0      0  15/10/14 06:58    34.429  data  2014-11      data         data\n",
       "1      1  15/10/14 06:58    13.000  call  2014-11  Vodafone       mobile\n",
       "2      2  15/10/14 14:46    23.000  call  2014-11    Meteor       mobile\n",
       "3      3  15/10/14 14:48     4.000  call  2014-11     Tesco       mobile\n",
       "4      4  15/10/14 17:27     4.000  call  2014-11     Tesco       mobile"
      ]
     },
     "execution_count": 56,
     "metadata": {},
     "output_type": "execute_result"
    }
   ],
   "source": [
    "# Retrieve the contents of the folder: data\n",
    "url = \"data\"\n",
    "url1 = \"E:/\"\n",
    "# load the dataset\n",
    "data = pd.read_csv(\"E:/DataSets/phone_data.csv\")\n",
    "#data = pd.read_csv(\"data/phone_data.csv\")\n",
    "# Display first 5 rows\n",
    "data.head()"
   ]
  },
  {
   "cell_type": "code",
   "execution_count": 8,
   "id": "90350cbe-a755-445b-bfd2-f174f1391d3e",
   "metadata": {},
   "outputs": [
    {
     "name": "stdout",
     "output_type": "stream",
     "text": [
      "<class 'pandas.core.frame.DataFrame'>\n",
      "RangeIndex: 830 entries, 0 to 829\n",
      "Data columns (total 7 columns):\n",
      " #   Column        Non-Null Count  Dtype  \n",
      "---  ------        --------------  -----  \n",
      " 0   index         830 non-null    int64  \n",
      " 1   date          830 non-null    object \n",
      " 2   duration      830 non-null    float64\n",
      " 3   item          830 non-null    object \n",
      " 4   month         830 non-null    object \n",
      " 5   network       830 non-null    object \n",
      " 6   network_type  830 non-null    object \n",
      "dtypes: float64(1), int64(1), object(5)\n",
      "memory usage: 45.5+ KB\n"
     ]
    }
   ],
   "source": [
    "# Summary of the structure of the dataframe\n",
    "data.info()\n"
   ]
  },
  {
   "cell_type": "code",
   "execution_count": 10,
   "id": "94dffdbe-ccbe-4a7f-adf9-6a1f441477ba",
   "metadata": {},
   "outputs": [
    {
     "data": {
      "text/plain": [
       "date            747\n",
       "item              3\n",
       "month             5\n",
       "network           9\n",
       "network_type      6\n",
       "dtype: int64"
      ]
     },
     "execution_count": 10,
     "metadata": {},
     "output_type": "execute_result"
    }
   ],
   "source": [
    "#Check the number of unique value from all of the object datatype\n",
    "data.select_dtypes(include='object').nunique()"
   ]
  },
  {
   "cell_type": "code",
   "execution_count": 12,
   "id": "6cabe881-8986-4478-a631-5b7cc6f2e251",
   "metadata": {},
   "outputs": [
    {
     "data": {
      "text/plain": [
       "index           False\n",
       "date            False\n",
       "duration        False\n",
       "item            False\n",
       "month           False\n",
       "network         False\n",
       "network_type    False\n",
       "dtype: bool"
      ]
     },
     "execution_count": 12,
     "metadata": {},
     "output_type": "execute_result"
    }
   ],
   "source": [
    "# Look for missing values\n",
    "data.isna().any()"
   ]
  },
  {
   "cell_type": "code",
   "execution_count": 14,
   "id": "7ca48096-7797-48b8-a956-6e927dc2c76f",
   "metadata": {},
   "outputs": [
    {
     "data": {
      "text/plain": [
       "index           0\n",
       "date            0\n",
       "duration        0\n",
       "item            0\n",
       "month           0\n",
       "network         0\n",
       "network_type    0\n",
       "dtype: int64"
      ]
     },
     "execution_count": 14,
     "metadata": {},
     "output_type": "execute_result"
    }
   ],
   "source": [
    "# Look for the count of the missing values of each attributes\n",
    "data.isnull().sum()"
   ]
  },
  {
   "cell_type": "code",
   "execution_count": 16,
   "id": "dd4dca76-8d4e-489d-9190-c52f215db199",
   "metadata": {},
   "outputs": [
    {
     "data": {
      "text/html": [
       "<div>\n",
       "<style scoped>\n",
       "    .dataframe tbody tr th:only-of-type {\n",
       "        vertical-align: middle;\n",
       "    }\n",
       "\n",
       "    .dataframe tbody tr th {\n",
       "        vertical-align: top;\n",
       "    }\n",
       "\n",
       "    .dataframe thead th {\n",
       "        text-align: right;\n",
       "    }\n",
       "</style>\n",
       "<table border=\"1\" class=\"dataframe\">\n",
       "  <thead>\n",
       "    <tr style=\"text-align: right;\">\n",
       "      <th></th>\n",
       "      <th>index</th>\n",
       "      <th>duration</th>\n",
       "    </tr>\n",
       "  </thead>\n",
       "  <tbody>\n",
       "    <tr>\n",
       "      <th>count</th>\n",
       "      <td>830.000000</td>\n",
       "      <td>830.000000</td>\n",
       "    </tr>\n",
       "    <tr>\n",
       "      <th>mean</th>\n",
       "      <td>414.500000</td>\n",
       "      <td>117.804036</td>\n",
       "    </tr>\n",
       "    <tr>\n",
       "      <th>std</th>\n",
       "      <td>239.744656</td>\n",
       "      <td>444.129560</td>\n",
       "    </tr>\n",
       "    <tr>\n",
       "      <th>min</th>\n",
       "      <td>0.000000</td>\n",
       "      <td>1.000000</td>\n",
       "    </tr>\n",
       "    <tr>\n",
       "      <th>25%</th>\n",
       "      <td>207.250000</td>\n",
       "      <td>1.000000</td>\n",
       "    </tr>\n",
       "    <tr>\n",
       "      <th>50%</th>\n",
       "      <td>414.500000</td>\n",
       "      <td>24.500000</td>\n",
       "    </tr>\n",
       "    <tr>\n",
       "      <th>75%</th>\n",
       "      <td>621.750000</td>\n",
       "      <td>55.000000</td>\n",
       "    </tr>\n",
       "    <tr>\n",
       "      <th>max</th>\n",
       "      <td>829.000000</td>\n",
       "      <td>10528.000000</td>\n",
       "    </tr>\n",
       "  </tbody>\n",
       "</table>\n",
       "</div>"
      ],
      "text/plain": [
       "            index      duration\n",
       "count  830.000000    830.000000\n",
       "mean   414.500000    117.804036\n",
       "std    239.744656    444.129560\n",
       "min      0.000000      1.000000\n",
       "25%    207.250000      1.000000\n",
       "50%    414.500000     24.500000\n",
       "75%    621.750000     55.000000\n",
       "max    829.000000  10528.000000"
      ]
     },
     "execution_count": 16,
     "metadata": {},
     "output_type": "execute_result"
    }
   ],
   "source": [
    "# Descriptive or Summary Statistics of the numeric columns\n",
    "data.describe()"
   ]
  },
  {
   "cell_type": "code",
   "execution_count": 18,
   "id": "29ddc1d1-1ab8-46f0-9fda-417a95515f67",
   "metadata": {},
   "outputs": [
    {
     "data": {
      "text/html": [
       "<div>\n",
       "<style scoped>\n",
       "    .dataframe tbody tr th:only-of-type {\n",
       "        vertical-align: middle;\n",
       "    }\n",
       "\n",
       "    .dataframe tbody tr th {\n",
       "        vertical-align: top;\n",
       "    }\n",
       "\n",
       "    .dataframe thead th {\n",
       "        text-align: right;\n",
       "    }\n",
       "</style>\n",
       "<table border=\"1\" class=\"dataframe\">\n",
       "  <thead>\n",
       "    <tr style=\"text-align: right;\">\n",
       "      <th></th>\n",
       "      <th>date</th>\n",
       "      <th>item</th>\n",
       "      <th>month</th>\n",
       "      <th>network</th>\n",
       "      <th>network_type</th>\n",
       "    </tr>\n",
       "  </thead>\n",
       "  <tbody>\n",
       "    <tr>\n",
       "      <th>count</th>\n",
       "      <td>830</td>\n",
       "      <td>830</td>\n",
       "      <td>830</td>\n",
       "      <td>830</td>\n",
       "      <td>830</td>\n",
       "    </tr>\n",
       "    <tr>\n",
       "      <th>unique</th>\n",
       "      <td>747</td>\n",
       "      <td>3</td>\n",
       "      <td>5</td>\n",
       "      <td>9</td>\n",
       "      <td>6</td>\n",
       "    </tr>\n",
       "    <tr>\n",
       "      <th>top</th>\n",
       "      <td>16/01/15 18:07</td>\n",
       "      <td>call</td>\n",
       "      <td>2014-11</td>\n",
       "      <td>Vodafone</td>\n",
       "      <td>mobile</td>\n",
       "    </tr>\n",
       "    <tr>\n",
       "      <th>freq</th>\n",
       "      <td>6</td>\n",
       "      <td>388</td>\n",
       "      <td>230</td>\n",
       "      <td>215</td>\n",
       "      <td>601</td>\n",
       "    </tr>\n",
       "  </tbody>\n",
       "</table>\n",
       "</div>"
      ],
      "text/plain": [
       "                  date  item    month   network network_type\n",
       "count              830   830      830       830          830\n",
       "unique             747     3        5         9            6\n",
       "top     16/01/15 18:07  call  2014-11  Vodafone       mobile\n",
       "freq                 6   388      230       215          601"
      ]
     },
     "execution_count": 18,
     "metadata": {},
     "output_type": "execute_result"
    }
   ],
   "source": [
    "# Descriptive or Summary Statistics of the character columns\n",
    "data.describe(include=['object'])"
   ]
  },
  {
   "cell_type": "code",
   "execution_count": 20,
   "id": "f9a4ce00-df94-47f8-a946-fa5ee83601df",
   "metadata": {},
   "outputs": [
    {
     "data": {
      "text/html": [
       "<div>\n",
       "<style scoped>\n",
       "    .dataframe tbody tr th:only-of-type {\n",
       "        vertical-align: middle;\n",
       "    }\n",
       "\n",
       "    .dataframe tbody tr th {\n",
       "        vertical-align: top;\n",
       "    }\n",
       "\n",
       "    .dataframe thead th {\n",
       "        text-align: right;\n",
       "    }\n",
       "</style>\n",
       "<table border=\"1\" class=\"dataframe\">\n",
       "  <thead>\n",
       "    <tr style=\"text-align: right;\">\n",
       "      <th></th>\n",
       "      <th>index</th>\n",
       "      <th>date</th>\n",
       "      <th>duration</th>\n",
       "      <th>item</th>\n",
       "      <th>month</th>\n",
       "      <th>network</th>\n",
       "      <th>network_type</th>\n",
       "    </tr>\n",
       "  </thead>\n",
       "  <tbody>\n",
       "    <tr>\n",
       "      <th>count</th>\n",
       "      <td>830.000000</td>\n",
       "      <td>830</td>\n",
       "      <td>830.000000</td>\n",
       "      <td>830</td>\n",
       "      <td>830</td>\n",
       "      <td>830</td>\n",
       "      <td>830</td>\n",
       "    </tr>\n",
       "    <tr>\n",
       "      <th>unique</th>\n",
       "      <td>NaN</td>\n",
       "      <td>747</td>\n",
       "      <td>NaN</td>\n",
       "      <td>3</td>\n",
       "      <td>5</td>\n",
       "      <td>9</td>\n",
       "      <td>6</td>\n",
       "    </tr>\n",
       "    <tr>\n",
       "      <th>top</th>\n",
       "      <td>NaN</td>\n",
       "      <td>16/01/15 18:07</td>\n",
       "      <td>NaN</td>\n",
       "      <td>call</td>\n",
       "      <td>2014-11</td>\n",
       "      <td>Vodafone</td>\n",
       "      <td>mobile</td>\n",
       "    </tr>\n",
       "    <tr>\n",
       "      <th>freq</th>\n",
       "      <td>NaN</td>\n",
       "      <td>6</td>\n",
       "      <td>NaN</td>\n",
       "      <td>388</td>\n",
       "      <td>230</td>\n",
       "      <td>215</td>\n",
       "      <td>601</td>\n",
       "    </tr>\n",
       "    <tr>\n",
       "      <th>mean</th>\n",
       "      <td>414.500000</td>\n",
       "      <td>NaN</td>\n",
       "      <td>117.804036</td>\n",
       "      <td>NaN</td>\n",
       "      <td>NaN</td>\n",
       "      <td>NaN</td>\n",
       "      <td>NaN</td>\n",
       "    </tr>\n",
       "    <tr>\n",
       "      <th>std</th>\n",
       "      <td>239.744656</td>\n",
       "      <td>NaN</td>\n",
       "      <td>444.129560</td>\n",
       "      <td>NaN</td>\n",
       "      <td>NaN</td>\n",
       "      <td>NaN</td>\n",
       "      <td>NaN</td>\n",
       "    </tr>\n",
       "    <tr>\n",
       "      <th>min</th>\n",
       "      <td>0.000000</td>\n",
       "      <td>NaN</td>\n",
       "      <td>1.000000</td>\n",
       "      <td>NaN</td>\n",
       "      <td>NaN</td>\n",
       "      <td>NaN</td>\n",
       "      <td>NaN</td>\n",
       "    </tr>\n",
       "    <tr>\n",
       "      <th>25%</th>\n",
       "      <td>207.250000</td>\n",
       "      <td>NaN</td>\n",
       "      <td>1.000000</td>\n",
       "      <td>NaN</td>\n",
       "      <td>NaN</td>\n",
       "      <td>NaN</td>\n",
       "      <td>NaN</td>\n",
       "    </tr>\n",
       "    <tr>\n",
       "      <th>50%</th>\n",
       "      <td>414.500000</td>\n",
       "      <td>NaN</td>\n",
       "      <td>24.500000</td>\n",
       "      <td>NaN</td>\n",
       "      <td>NaN</td>\n",
       "      <td>NaN</td>\n",
       "      <td>NaN</td>\n",
       "    </tr>\n",
       "    <tr>\n",
       "      <th>75%</th>\n",
       "      <td>621.750000</td>\n",
       "      <td>NaN</td>\n",
       "      <td>55.000000</td>\n",
       "      <td>NaN</td>\n",
       "      <td>NaN</td>\n",
       "      <td>NaN</td>\n",
       "      <td>NaN</td>\n",
       "    </tr>\n",
       "    <tr>\n",
       "      <th>max</th>\n",
       "      <td>829.000000</td>\n",
       "      <td>NaN</td>\n",
       "      <td>10528.000000</td>\n",
       "      <td>NaN</td>\n",
       "      <td>NaN</td>\n",
       "      <td>NaN</td>\n",
       "      <td>NaN</td>\n",
       "    </tr>\n",
       "  </tbody>\n",
       "</table>\n",
       "</div>"
      ],
      "text/plain": [
       "             index            date      duration  item    month   network  \\\n",
       "count   830.000000             830    830.000000   830      830       830   \n",
       "unique         NaN             747           NaN     3        5         9   \n",
       "top            NaN  16/01/15 18:07           NaN  call  2014-11  Vodafone   \n",
       "freq           NaN               6           NaN   388      230       215   \n",
       "mean    414.500000             NaN    117.804036   NaN      NaN       NaN   \n",
       "std     239.744656             NaN    444.129560   NaN      NaN       NaN   \n",
       "min       0.000000             NaN      1.000000   NaN      NaN       NaN   \n",
       "25%     207.250000             NaN      1.000000   NaN      NaN       NaN   \n",
       "50%     414.500000             NaN     24.500000   NaN      NaN       NaN   \n",
       "75%     621.750000             NaN     55.000000   NaN      NaN       NaN   \n",
       "max     829.000000             NaN  10528.000000   NaN      NaN       NaN   \n",
       "\n",
       "       network_type  \n",
       "count           830  \n",
       "unique            6  \n",
       "top          mobile  \n",
       "freq            601  \n",
       "mean            NaN  \n",
       "std             NaN  \n",
       "min             NaN  \n",
       "25%             NaN  \n",
       "50%             NaN  \n",
       "75%             NaN  \n",
       "max             NaN  "
      ]
     },
     "execution_count": 20,
     "metadata": {},
     "output_type": "execute_result"
    }
   ],
   "source": [
    "# Descriptive or Summary Statistics of all the columns\n",
    "data.describe(include='all')"
   ]
  },
  {
   "cell_type": "code",
   "execution_count": 22,
   "id": "809431a1-ba91-4d69-8fc6-d74e5175f929",
   "metadata": {},
   "outputs": [],
   "source": [
    "# Convert date from string to date times\n",
    "data['date'] = data['date'].apply(dateutil.parser.parse,\n",
    "dayfirst=True)"
   ]
  },
  {
   "cell_type": "code",
   "execution_count": 24,
   "id": "c5ff701a-5623-40ec-81c3-45f79e3e158f",
   "metadata": {},
   "outputs": [
    {
     "name": "stdout",
     "output_type": "stream",
     "text": [
      "Number of Records:  830\n"
     ]
    }
   ],
   "source": [
    "# How many rows in the dataset\n",
    "no_of_records=data['item'].count()\n",
    "print(\"Number of Records: \",no_of_records)"
   ]
  },
  {
   "cell_type": "code",
   "execution_count": 26,
   "id": "946db2e2-2daf-4f6b-8af0-2aaaec70b2b3",
   "metadata": {},
   "outputs": [
    {
     "name": "stdout",
     "output_type": "stream",
     "text": [
      "Longest Phone Call:  10528.0\n"
     ]
    }
   ],
   "source": [
    "# What was the longest phone call / data entry?\n",
    "longest_call=data['duration'].max()\n",
    "print(\"Longest Phone Call: \",longest_call)"
   ]
  },
  {
   "cell_type": "code",
   "execution_count": 28,
   "id": "298fdd24-f192-4491-8f49-020096ebb2b8",
   "metadata": {},
   "outputs": [
    {
     "name": "stdout",
     "output_type": "stream",
     "text": [
      "Recorded Calls in Seconds:  92321.0\n"
     ]
    }
   ],
   "source": [
    "# How many seconds of phone calls are recorded in total?\n",
    "recorded_calls_secs=data['duration'][data['item'] == 'call'].sum()\n",
    "print(\"Recorded Calls in Seconds: \",recorded_calls_secs)"
   ]
  },
  {
   "cell_type": "code",
   "execution_count": 30,
   "id": "a81932fb-ebc6-4e29-885d-558803310147",
   "metadata": {},
   "outputs": [
    {
     "name": "stdout",
     "output_type": "stream",
     "text": [
      "Month Entries are as follows:\n"
     ]
    },
    {
     "data": {
      "text/plain": [
       "month\n",
       "2014-11    230\n",
       "2015-01    205\n",
       "2014-12    157\n",
       "2015-02    137\n",
       "2015-03    101\n",
       "Name: count, dtype: int64"
      ]
     },
     "execution_count": 30,
     "metadata": {},
     "output_type": "execute_result"
    }
   ],
   "source": [
    "# How many entries are there for each month?\n",
    "month_entries=data['month'].value_counts()\n",
    "print(\"Month Entries are as follows:\")\n",
    "month_entries"
   ]
  },
  {
   "cell_type": "code",
   "execution_count": 32,
   "id": "2caffc22-2c14-438c-adca-914d30fe6695",
   "metadata": {},
   "outputs": [
    {
     "name": "stdout",
     "output_type": "stream",
     "text": [
      "Unique Network Entries:  9\n"
     ]
    }
   ],
   "source": [
    "# Number of non-null unique network entries\n",
    "unique_network_entries=data['network'].nunique()\n",
    "print(\"Unique Network Entries: \",unique_network_entries)"
   ]
  },
  {
   "cell_type": "code",
   "execution_count": 36,
   "id": "ee4e043f-671c-4f06-abe2-b91dc4e4943a",
   "metadata": {},
   "outputs": [
    {
     "name": "stdout",
     "output_type": "stream",
     "text": [
      "Group By based on month:  dict_keys(['2014-11', '2014-12', '2015-01', '2015-02', '2015-03'])\n",
      "Group By based on month:  230\n",
      "Group By based on the year and month of 2014-11 : 230\n",
      "Group By based on the year and month of 2014-12 : 157\n",
      "Group By based on the year and month of 2015-01 : 205\n",
      "Group By based on the year and month of 2015-02 : 137\n",
      "Group By based on the year and month of 2015-03 : 101\n"
     ]
    }
   ],
   "source": [
    "# GroupBy options\n",
    "print(\"Group By based on month: \",data.groupby(['month']).\n",
    "groups.keys())\n",
    "print(\"Group By based on month: \",len(data.groupby(['month']).\n",
    "groups['2014-11']))\n",
    "# Group By based on the given year and month\n",
    "for key in data.groupby(['month']).groups.keys():\n",
    "       print(\"Group By based on the year and month of\",key,\":\",\n",
    "           len(data.groupby(['month']).groups[key]))"
   ]
  },
  {
   "cell_type": "code",
   "execution_count": 38,
   "id": "ac681b95-2164-42b0-bd87-1613a04857b5",
   "metadata": {},
   "outputs": [
    {
     "name": "stdout",
     "output_type": "stream",
     "text": [
      "To Get the first entry for each month\n",
      "         index                date  duration  item   network network_type\n",
      "month                                                                    \n",
      "2014-11      0 2014-10-15 06:58:00    34.429  data      data         data\n",
      "2014-12    228 2014-11-13 06:58:00    34.429  data      data         data\n",
      "2015-01    381 2014-12-13 06:58:00    34.429  data      data         data\n",
      "2015-02    577 2015-01-13 06:58:00    34.429  data      data         data\n",
      "2015-03    729 2015-02-12 20:15:00    69.000  call  landline     landline\n"
     ]
    }
   ],
   "source": [
    "# Get the first entry for each month\n",
    "print(\"To Get the first entry for each month\")\n",
    "print(data.groupby('month').first())"
   ]
  },
  {
   "cell_type": "code",
   "execution_count": 40,
   "id": "4503333e-ae13-43bc-94c8-3b586c6200e3",
   "metadata": {},
   "outputs": [
    {
     "name": "stdout",
     "output_type": "stream",
     "text": [
      "To Get the sum of the durations per month\n",
      "month\n",
      "2014-11    26639.441\n",
      "2014-12    14641.870\n",
      "2015-01    18223.299\n",
      "2015-02    15522.299\n",
      "2015-03    22750.441\n",
      "Name: duration, dtype: float64\n"
     ]
    }
   ],
   "source": [
    "# Get the sum of the durations per month\n",
    "print(\"To Get the sum of the durations per month\")\n",
    "print(data.groupby('month')['duration'].sum())"
   ]
  },
  {
   "cell_type": "code",
   "execution_count": 42,
   "id": "4f6e894d-8f0d-41b5-86cf-8ee29490a4d1",
   "metadata": {},
   "outputs": [
    {
     "name": "stdout",
     "output_type": "stream",
     "text": [
      "To Get the number of dates / entries in each month\n",
      "month\n",
      "2014-11    230\n",
      "2014-12    157\n",
      "2015-01    205\n",
      "2015-02    137\n",
      "2015-03    101\n",
      "Name: date, dtype: int64\n",
      "     month  date\n",
      "0  2014-11   230\n",
      "1  2014-12   157\n",
      "2  2015-01   205\n",
      "3  2015-02   137\n",
      "4  2015-03   101\n"
     ]
    }
   ],
   "source": [
    "# Get the number of dates / entries in each month\n",
    "print(\"To Get the number of dates / entries in each month\")\n",
    "print(data.groupby('month')['date'].count())\n",
    "result=data.groupby('month',as_index=False)['date'].count()\n",
    "print(result)"
   ]
  },
  {
   "cell_type": "code",
   "execution_count": 44,
   "id": "66c09767-8981-4610-a26a-8973cc55a4b9",
   "metadata": {},
   "outputs": [
    {
     "name": "stdout",
     "output_type": "stream",
     "text": [
      "To sum the durations, for calls only, to each network\n",
      "network\n",
      "Meteor        7200.0\n",
      "Tesco        13828.0\n",
      "Three        36464.0\n",
      "Vodafone     14621.0\n",
      "landline     18433.0\n",
      "voicemail     1775.0\n",
      "Name: duration, dtype: float64\n",
      "     network  duration\n",
      "0     Meteor    7200.0\n",
      "1      Tesco   13828.0\n",
      "2      Three   36464.0\n",
      "3   Vodafone   14621.0\n",
      "4   landline   18433.0\n",
      "5  voicemail    1775.0\n"
     ]
    }
   ],
   "source": [
    "# What is the sum of durations, for calls only, to each network\n",
    "print(\"To sum the durations, for calls only, to each network\")\n",
    "print(data[data['item'] == 'call'].groupby('network')['duration'].sum())\n",
    "result=data[data['item'] == 'call'].groupby('network',as_index=False)['duration'].sum().reindex(columns=data.columns)\n",
    "print(result.loc[result['duration']>0,['network','duration']])"
   ]
  },
  {
   "cell_type": "code",
   "execution_count": 46,
   "id": "5d9a6bf8-2498-4874-b212-5f4a2f257ce1",
   "metadata": {},
   "outputs": [
    {
     "name": "stdout",
     "output_type": "stream",
     "text": [
      "To get the network that has a call duration greater than 20000\n",
      "    network  duration\n",
      "1     Tesco   13828.0\n",
      "2     Three   36464.0\n",
      "3  Vodafone   14621.0\n",
      "4  landline   18433.0\n"
     ]
    }
   ],
   "source": [
    "# To get the network that has a call duration greater than 10000\n",
    "print(\"To get the network that has a call duration greater than 20000\")\n",
    "call_data=data[data['item'] == 'call'].groupby('network',as_index=False)['duration'].sum().reindex(columns=data.columns)\n",
    "print(call_data.loc[call_data['duration']>10000,['network','duration']])"
   ]
  },
  {
   "cell_type": "code",
   "execution_count": 48,
   "id": "8c5d7100-ee48-4e84-8083-007174e05be5",
   "metadata": {},
   "outputs": [
    {
     "name": "stdout",
     "output_type": "stream",
     "text": [
      "Number of calls, sms, and data entries are in each month\n"
     ]
    },
    {
     "data": {
      "text/plain": [
       "month    item\n",
       "2014-11  call    107\n",
       "         data     29\n",
       "         sms      94\n",
       "2014-12  call     79\n",
       "         data     30\n",
       "         sms      48\n",
       "2015-01  call     88\n",
       "         data     31\n",
       "         sms      86\n",
       "2015-02  call     67\n",
       "         data     31\n",
       "         sms      39\n",
       "2015-03  call     47\n",
       "         data     29\n",
       "         sms      25\n",
       "Name: date, dtype: int64"
      ]
     },
     "execution_count": 48,
     "metadata": {},
     "output_type": "execute_result"
    }
   ],
   "source": [
    "# How many calls, sms, and data entries are in each month?\n",
    "print(\"Number of calls, sms, and data entries are in each month\")\n",
    "#print(data.groupby(['month', 'item'])['date'].count())\n",
    "data.groupby(['month', 'item'])['date'].count()"
   ]
  },
  {
   "cell_type": "code",
   "execution_count": 37,
   "id": "e21b537b-03e6-4ce4-864b-0ef001afb743",
   "metadata": {},
   "outputs": [
    {
     "data": {
      "text/plain": [
       "<Figure size 1000x1000 with 0 Axes>"
      ]
     },
     "metadata": {},
     "output_type": "display_data"
    },
    {
     "data": {
      "image/png": "[encoded data removed]",
      "text/plain": [
       "<Figure size 640x480 with 1 Axes>"
      ]
     },
     "metadata": {},
     "output_type": "display_data"
    }
   ],
   "source": [
    "# Define the size of the graph\n",
    "plt.figure(figsize=(10,10))\n",
    "\n",
    "#data.groupby(['month', 'item'])['date'].count().unstack().plot.bar()\n",
    "ax = data.groupby(['month', 'item'])['date'].count().unstack().plot.bar()\n",
    "for c in ax.containers:\n",
    "    #ax.bar_label(c, label_type='center',color='black')\n",
    "    ax.bar_label(c, label_type='edge',color='black')\n",
    "    \n",
    "# Define x-axis range\n",
    "plt.yticks(np.arange(0, 121, step=10))\n",
    "# Define x-axis and y-axis labels\n",
    "plt.xlabel ('Month', fontsize=12)\n",
    "plt.ylabel ('Count', fontsize=12)\n",
    "\n",
    "# save the graph into the file\n",
    "plt.savefig('E:/DataSets/Phone-Data-Month-wise-items-graph.png', bbox_inches='tight',dpi=300)\n",
    "\n",
    "# show plot\n",
    "plt.show()"
   ]
  },
  {
   "cell_type": "code",
   "execution_count": 39,
   "id": "64bad4c3-6474-4bb4-a54b-323cbacf18b7",
   "metadata": {},
   "outputs": [
    {
     "data": {
      "image/png": "[encoded data removed]",
      "text/plain": [
       "<Figure size 500x500 with 1 Axes>"
      ]
     },
     "metadata": {},
     "output_type": "display_data"
    }
   ],
   "source": [
    "# Define the size of the graph\n",
    "#plt.figure(figsize=(10,10))\n",
    "\n",
    "df = data.groupby(['month', 'item'])['date'].count().unstack(level=1)\n",
    "ax = df.plot(kind = 'bar', figsize=(5,5))\n",
    "\n",
    "for c in ax.containers:\n",
    "    #ax.bar_label(c, label_type='center',color='black')\n",
    "    ax.bar_label(c, label_type='edge',color='black')\n",
    "    \n",
    "# Define x-axis range\n",
    "plt.yticks(np.arange(0, 121, step=10))\n",
    "# Define x-axis and y-axis labels\n",
    "plt.xlabel ('Month', fontsize=12)\n",
    "plt.ylabel ('Count', fontsize=12)\n",
    "\n",
    "# save the graph into the file\n",
    "plt.savefig('E:/DataSets/Phone-Data-Month-wise-items-graph1.png',bbox_inches='tight', dpi=300)\n",
    "\n",
    "# show plot\n",
    "plt.show()"
   ]
  },
  {
   "cell_type": "code",
   "execution_count": 33,
   "id": "8d27ef10-dd1f-452d-8370-27a9476ca5b6",
   "metadata": {},
   "outputs": [
    {
     "data": {
      "text/plain": [
       "<Figure size 1000x1000 with 0 Axes>"
      ]
     },
     "metadata": {},
     "output_type": "display_data"
    },
    {
     "data": {
      "image/png": "[encoded data removed]",
      "text/plain": [
       "<Figure size 640x480 with 1 Axes>"
      ]
     },
     "metadata": {},
     "output_type": "display_data"
    }
   ],
   "source": [
    "# Import Packages\n",
    "import pandas as pd\n",
    "import numpy as np\n",
    "import dateutil\n",
    "\n",
    "# Visualization\n",
    "import matplotlib.pyplot as plt\n",
    "\n",
    "# suppress the warning adding the following lines to the imports of your program\n",
    "import warnings\n",
    "# ignore all warnings\n",
    "warnings.filterwarnings('ignore')\n",
    "\n",
    "# load the dataset\n",
    "data = pd.read_csv(\"E:/DataSets/phone_data.csv\")\n",
    "# Display first 5 rows\n",
    "data.head()\n",
    "\n",
    "# Define the size of the graph\n",
    "plt.figure(figsize=(10,10))\n",
    "\n",
    "#data.groupby(['month', 'item'])['date'].count().unstack().plot.bar()\n",
    "ax = data.groupby(['month', 'item'])['date'].count().unstack().plot.bar()\n",
    "for c in ax.containers:\n",
    "    #ax.bar_label(c, label_type='center',color='black')\n",
    "    ax.bar_label(c, label_type='edge',color='black')\n",
    "    \n",
    "# Define x-axis range\n",
    "plt.yticks(np.arange(0, 121, step=10))\n",
    "# Define x-axis and y-axis labels\n",
    "plt.xlabel ('Month', fontsize=12)\n",
    "plt.ylabel ('Count', fontsize=12)\n",
    "\n",
    "# save the graph into the file\n",
    "plt.savefig('E:/DataSets/Phone-Data-Month-wise-items-graph.png',bbox_inches='tight', dpi=300)\n",
    "\n",
    "# show plot\n",
    "plt.show()\n",
    "\n",
    "\n"
   ]
  },
  {
   "cell_type": "code",
   "execution_count": null,
   "id": "ddffc4c1-1365-45e6-b194-d50175a545d4",
   "metadata": {},
   "outputs": [],
   "source": []
  }
 ],
 "metadata": {
  "kernelspec": {
   "display_name": "Python 3 (ipykernel)",
   "language": "python",
   "name": "python3"
  },
  "language_info": {
   "codemirror_mode": {
    "name": "ipython",
    "version": 3
   },
   "file_extension": ".py",
   "mimetype": "text/x-python",
   "name": "python",
   "nbconvert_exporter": "python",
   "pygments_lexer": "ipython3",
   "version": "3.11.9"
  }
 },
 "nbformat": 4,
 "nbformat_minor": 5
}
